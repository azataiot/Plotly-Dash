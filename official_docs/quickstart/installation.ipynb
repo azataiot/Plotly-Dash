{
 "cells": [
  {
   "cell_type": "code",
   "execution_count": 1,
   "metadata": {
    "collapsed": true,
    "ExecuteTime": {
     "start_time": "2023-04-07T22:37:33.329273Z",
     "end_time": "2023-04-07T22:37:39.867120Z"
    }
   },
   "outputs": [
    {
     "name": "stdout",
     "output_type": "stream",
     "text": [
      "Requirement already satisfied: dash in /Users/azat/Developer/Plotly-Dash/venv/lib/python3.11/site-packages (2.9.2)\r\n",
      "Requirement already satisfied: Flask>=1.0.4 in /Users/azat/Developer/Plotly-Dash/venv/lib/python3.11/site-packages (from dash) (2.2.3)\r\n",
      "Requirement already satisfied: plotly>=5.0.0 in /Users/azat/Developer/Plotly-Dash/venv/lib/python3.11/site-packages (from dash) (5.14.1)\r\n",
      "Requirement already satisfied: dash-html-components==2.0.0 in /Users/azat/Developer/Plotly-Dash/venv/lib/python3.11/site-packages (from dash) (2.0.0)\r\n",
      "Requirement already satisfied: dash-core-components==2.0.0 in /Users/azat/Developer/Plotly-Dash/venv/lib/python3.11/site-packages (from dash) (2.0.0)\r\n",
      "Requirement already satisfied: dash-table==5.0.0 in /Users/azat/Developer/Plotly-Dash/venv/lib/python3.11/site-packages (from dash) (5.0.0)\r\n",
      "Requirement already satisfied: Werkzeug>=2.2.2 in /Users/azat/Developer/Plotly-Dash/venv/lib/python3.11/site-packages (from Flask>=1.0.4->dash) (2.2.3)\r\n",
      "Requirement already satisfied: Jinja2>=3.0 in /Users/azat/Developer/Plotly-Dash/venv/lib/python3.11/site-packages (from Flask>=1.0.4->dash) (3.1.2)\r\n",
      "Requirement already satisfied: itsdangerous>=2.0 in /Users/azat/Developer/Plotly-Dash/venv/lib/python3.11/site-packages (from Flask>=1.0.4->dash) (2.1.2)\r\n",
      "Requirement already satisfied: click>=8.0 in /Users/azat/Developer/Plotly-Dash/venv/lib/python3.11/site-packages (from Flask>=1.0.4->dash) (8.1.3)\r\n",
      "Requirement already satisfied: tenacity>=6.2.0 in /Users/azat/Developer/Plotly-Dash/venv/lib/python3.11/site-packages (from plotly>=5.0.0->dash) (8.2.2)\r\n",
      "Requirement already satisfied: packaging in /Users/azat/Developer/Plotly-Dash/venv/lib/python3.11/site-packages (from plotly>=5.0.0->dash) (23.0)\r\n",
      "Requirement already satisfied: MarkupSafe>=2.0 in /Users/azat/Developer/Plotly-Dash/venv/lib/python3.11/site-packages (from Jinja2>=3.0->Flask>=1.0.4->dash) (2.1.2)\r\n",
      "Requirement already satisfied: jupyter-dash in /Users/azat/Developer/Plotly-Dash/venv/lib/python3.11/site-packages (0.4.2)\r\n",
      "Requirement already satisfied: dash in /Users/azat/Developer/Plotly-Dash/venv/lib/python3.11/site-packages (from jupyter-dash) (2.9.2)\r\n",
      "Requirement already satisfied: requests in /Users/azat/Developer/Plotly-Dash/venv/lib/python3.11/site-packages (from jupyter-dash) (2.28.2)\r\n",
      "Requirement already satisfied: flask in /Users/azat/Developer/Plotly-Dash/venv/lib/python3.11/site-packages (from jupyter-dash) (2.2.3)\r\n",
      "Requirement already satisfied: retrying in /Users/azat/Developer/Plotly-Dash/venv/lib/python3.11/site-packages (from jupyter-dash) (1.3.4)\r\n",
      "Requirement already satisfied: ipython in /Users/azat/Developer/Plotly-Dash/venv/lib/python3.11/site-packages (from jupyter-dash) (8.12.0)\r\n",
      "Requirement already satisfied: ipykernel in /Users/azat/Developer/Plotly-Dash/venv/lib/python3.11/site-packages (from jupyter-dash) (6.22.0)\r\n",
      "Requirement already satisfied: ansi2html in /Users/azat/Developer/Plotly-Dash/venv/lib/python3.11/site-packages (from jupyter-dash) (1.8.0)\r\n",
      "Requirement already satisfied: nest-asyncio in /Users/azat/Developer/Plotly-Dash/venv/lib/python3.11/site-packages (from jupyter-dash) (1.5.6)\r\n",
      "Requirement already satisfied: plotly>=5.0.0 in /Users/azat/Developer/Plotly-Dash/venv/lib/python3.11/site-packages (from dash->jupyter-dash) (5.14.1)\r\n",
      "Requirement already satisfied: dash-html-components==2.0.0 in /Users/azat/Developer/Plotly-Dash/venv/lib/python3.11/site-packages (from dash->jupyter-dash) (2.0.0)\r\n",
      "Requirement already satisfied: dash-core-components==2.0.0 in /Users/azat/Developer/Plotly-Dash/venv/lib/python3.11/site-packages (from dash->jupyter-dash) (2.0.0)\r\n",
      "Requirement already satisfied: dash-table==5.0.0 in /Users/azat/Developer/Plotly-Dash/venv/lib/python3.11/site-packages (from dash->jupyter-dash) (5.0.0)\r\n",
      "Requirement already satisfied: Werkzeug>=2.2.2 in /Users/azat/Developer/Plotly-Dash/venv/lib/python3.11/site-packages (from flask->jupyter-dash) (2.2.3)\r\n",
      "Requirement already satisfied: Jinja2>=3.0 in /Users/azat/Developer/Plotly-Dash/venv/lib/python3.11/site-packages (from flask->jupyter-dash) (3.1.2)\r\n",
      "Requirement already satisfied: itsdangerous>=2.0 in /Users/azat/Developer/Plotly-Dash/venv/lib/python3.11/site-packages (from flask->jupyter-dash) (2.1.2)\r\n",
      "Requirement already satisfied: click>=8.0 in /Users/azat/Developer/Plotly-Dash/venv/lib/python3.11/site-packages (from flask->jupyter-dash) (8.1.3)\r\n",
      "Requirement already satisfied: appnope in /Users/azat/Developer/Plotly-Dash/venv/lib/python3.11/site-packages (from ipykernel->jupyter-dash) (0.1.3)\r\n",
      "Requirement already satisfied: comm>=0.1.1 in /Users/azat/Developer/Plotly-Dash/venv/lib/python3.11/site-packages (from ipykernel->jupyter-dash) (0.1.3)\r\n",
      "Requirement already satisfied: debugpy>=1.6.5 in /Users/azat/Developer/Plotly-Dash/venv/lib/python3.11/site-packages (from ipykernel->jupyter-dash) (1.6.7)\r\n",
      "Requirement already satisfied: jupyter-client>=6.1.12 in /Users/azat/Developer/Plotly-Dash/venv/lib/python3.11/site-packages (from ipykernel->jupyter-dash) (8.1.0)\r\n",
      "Requirement already satisfied: jupyter-core!=5.0.*,>=4.12 in /Users/azat/Developer/Plotly-Dash/venv/lib/python3.11/site-packages (from ipykernel->jupyter-dash) (5.3.0)\r\n",
      "Requirement already satisfied: matplotlib-inline>=0.1 in /Users/azat/Developer/Plotly-Dash/venv/lib/python3.11/site-packages (from ipykernel->jupyter-dash) (0.1.6)\r\n",
      "Requirement already satisfied: packaging in /Users/azat/Developer/Plotly-Dash/venv/lib/python3.11/site-packages (from ipykernel->jupyter-dash) (23.0)\r\n",
      "Requirement already satisfied: psutil in /Users/azat/Developer/Plotly-Dash/venv/lib/python3.11/site-packages (from ipykernel->jupyter-dash) (5.9.4)\r\n",
      "Requirement already satisfied: pyzmq>=20 in /Users/azat/Developer/Plotly-Dash/venv/lib/python3.11/site-packages (from ipykernel->jupyter-dash) (25.0.2)\r\n",
      "Requirement already satisfied: tornado>=6.1 in /Users/azat/Developer/Plotly-Dash/venv/lib/python3.11/site-packages (from ipykernel->jupyter-dash) (6.2)\r\n",
      "Requirement already satisfied: traitlets>=5.4.0 in /Users/azat/Developer/Plotly-Dash/venv/lib/python3.11/site-packages (from ipykernel->jupyter-dash) (5.9.0)\r\n",
      "Requirement already satisfied: backcall in /Users/azat/Developer/Plotly-Dash/venv/lib/python3.11/site-packages (from ipython->jupyter-dash) (0.2.0)\r\n",
      "Requirement already satisfied: decorator in /Users/azat/Developer/Plotly-Dash/venv/lib/python3.11/site-packages (from ipython->jupyter-dash) (5.1.1)\r\n",
      "Requirement already satisfied: jedi>=0.16 in /Users/azat/Developer/Plotly-Dash/venv/lib/python3.11/site-packages (from ipython->jupyter-dash) (0.18.2)\r\n",
      "Requirement already satisfied: pickleshare in /Users/azat/Developer/Plotly-Dash/venv/lib/python3.11/site-packages (from ipython->jupyter-dash) (0.7.5)\r\n",
      "Requirement already satisfied: prompt-toolkit!=3.0.37,<3.1.0,>=3.0.30 in /Users/azat/Developer/Plotly-Dash/venv/lib/python3.11/site-packages (from ipython->jupyter-dash) (3.0.38)\r\n",
      "Requirement already satisfied: pygments>=2.4.0 in /Users/azat/Developer/Plotly-Dash/venv/lib/python3.11/site-packages (from ipython->jupyter-dash) (2.14.0)\r\n",
      "Requirement already satisfied: stack-data in /Users/azat/Developer/Plotly-Dash/venv/lib/python3.11/site-packages (from ipython->jupyter-dash) (0.6.2)\r\n",
      "Requirement already satisfied: pexpect>4.3 in /Users/azat/Developer/Plotly-Dash/venv/lib/python3.11/site-packages (from ipython->jupyter-dash) (4.8.0)\r\n",
      "Requirement already satisfied: charset-normalizer<4,>=2 in /Users/azat/Developer/Plotly-Dash/venv/lib/python3.11/site-packages (from requests->jupyter-dash) (3.1.0)\r\n",
      "Requirement already satisfied: idna<4,>=2.5 in /Users/azat/Developer/Plotly-Dash/venv/lib/python3.11/site-packages (from requests->jupyter-dash) (3.4)\r\n",
      "Requirement already satisfied: urllib3<1.27,>=1.21.1 in /Users/azat/Developer/Plotly-Dash/venv/lib/python3.11/site-packages (from requests->jupyter-dash) (1.26.15)\r\n",
      "Requirement already satisfied: certifi>=2017.4.17 in /Users/azat/Developer/Plotly-Dash/venv/lib/python3.11/site-packages (from requests->jupyter-dash) (2022.12.7)\r\n",
      "Requirement already satisfied: six>=1.7.0 in /Users/azat/Developer/Plotly-Dash/venv/lib/python3.11/site-packages (from retrying->jupyter-dash) (1.16.0)\r\n",
      "Requirement already satisfied: parso<0.9.0,>=0.8.0 in /Users/azat/Developer/Plotly-Dash/venv/lib/python3.11/site-packages (from jedi>=0.16->ipython->jupyter-dash) (0.8.3)\r\n",
      "Requirement already satisfied: MarkupSafe>=2.0 in /Users/azat/Developer/Plotly-Dash/venv/lib/python3.11/site-packages (from Jinja2>=3.0->flask->jupyter-dash) (2.1.2)\r\n",
      "Requirement already satisfied: python-dateutil>=2.8.2 in /Users/azat/Developer/Plotly-Dash/venv/lib/python3.11/site-packages (from jupyter-client>=6.1.12->ipykernel->jupyter-dash) (2.8.2)\r\n",
      "Requirement already satisfied: platformdirs>=2.5 in /Users/azat/Developer/Plotly-Dash/venv/lib/python3.11/site-packages (from jupyter-core!=5.0.*,>=4.12->ipykernel->jupyter-dash) (3.2.0)\r\n",
      "Requirement already satisfied: ptyprocess>=0.5 in /Users/azat/Developer/Plotly-Dash/venv/lib/python3.11/site-packages (from pexpect>4.3->ipython->jupyter-dash) (0.7.0)\r\n",
      "Requirement already satisfied: tenacity>=6.2.0 in /Users/azat/Developer/Plotly-Dash/venv/lib/python3.11/site-packages (from plotly>=5.0.0->dash->jupyter-dash) (8.2.2)\r\n",
      "Requirement already satisfied: wcwidth in /Users/azat/Developer/Plotly-Dash/venv/lib/python3.11/site-packages (from prompt-toolkit!=3.0.37,<3.1.0,>=3.0.30->ipython->jupyter-dash) (0.2.6)\r\n",
      "Requirement already satisfied: executing>=1.2.0 in /Users/azat/Developer/Plotly-Dash/venv/lib/python3.11/site-packages (from stack-data->ipython->jupyter-dash) (1.2.0)\r\n",
      "Requirement already satisfied: asttokens>=2.1.0 in /Users/azat/Developer/Plotly-Dash/venv/lib/python3.11/site-packages (from stack-data->ipython->jupyter-dash) (2.2.1)\r\n",
      "Requirement already satisfied: pure-eval in /Users/azat/Developer/Plotly-Dash/venv/lib/python3.11/site-packages (from stack-data->ipython->jupyter-dash) (0.2.2)\r\n",
      "Collecting pandas\r\n",
      "  Using cached pandas-2.0.0-cp311-cp311-macosx_11_0_arm64.whl (10.7 MB)\r\n",
      "Requirement already satisfied: python-dateutil>=2.8.2 in /Users/azat/Developer/Plotly-Dash/venv/lib/python3.11/site-packages (from pandas) (2.8.2)\r\n",
      "Collecting pytz>=2020.1\r\n",
      "  Using cached pytz-2023.3-py2.py3-none-any.whl (502 kB)\r\n",
      "Collecting tzdata>=2022.1\r\n",
      "  Using cached tzdata-2023.3-py2.py3-none-any.whl (341 kB)\r\n",
      "Collecting numpy>=1.21.0\r\n",
      "  Using cached numpy-1.24.2-cp311-cp311-macosx_11_0_arm64.whl (13.8 MB)\r\n",
      "Requirement already satisfied: six>=1.5 in /Users/azat/Developer/Plotly-Dash/venv/lib/python3.11/site-packages (from python-dateutil>=2.8.2->pandas) (1.16.0)\r\n",
      "Installing collected packages: pytz, tzdata, numpy, pandas\r\n",
      "Successfully installed numpy-1.24.2 pandas-2.0.0 pytz-2023.3 tzdata-2023.3\r\n"
     ]
    }
   ],
   "source": [
    "!pip install dash\n",
    "!pip install jupyter-dash\n",
    "!pip install pandas"
   ]
  },
  {
   "cell_type": "code",
   "execution_count": null,
   "outputs": [],
   "source": [],
   "metadata": {
    "collapsed": false
   }
  }
 ],
 "metadata": {
  "kernelspec": {
   "display_name": "Python 3",
   "language": "python",
   "name": "python3"
  },
  "language_info": {
   "codemirror_mode": {
    "name": "ipython",
    "version": 2
   },
   "file_extension": ".py",
   "mimetype": "text/x-python",
   "name": "python",
   "nbconvert_exporter": "python",
   "pygments_lexer": "ipython2",
   "version": "2.7.6"
  }
 },
 "nbformat": 4,
 "nbformat_minor": 0
}
