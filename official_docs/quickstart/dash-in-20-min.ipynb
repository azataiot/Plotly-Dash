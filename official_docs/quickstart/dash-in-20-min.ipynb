{
 "cells": [
  {
   "cell_type": "markdown",
   "source": [
    "# Dash in 20 minutes"
   ],
   "metadata": {
    "collapsed": false
   }
  },
  {
   "cell_type": "code",
   "execution_count": 1,
   "outputs": [],
   "source": [
    "from jupyter_dash import JupyterDash\n",
    "from dash import Dash, html"
   ],
   "metadata": {
    "collapsed": false,
    "ExecuteTime": {
     "start_time": "2023-04-07T22:53:20.106507Z",
     "end_time": "2023-04-07T22:53:20.193442Z"
    }
   }
  },
  {
   "cell_type": "code",
   "execution_count": 2,
   "metadata": {
    "collapsed": true,
    "ExecuteTime": {
     "start_time": "2023-04-07T22:53:20.194263Z",
     "end_time": "2023-04-07T22:53:20.202226Z"
    }
   },
   "outputs": [],
   "source": [
    "app = JupyterDash(__name__)"
   ]
  },
  {
   "cell_type": "markdown",
   "source": [
    "## Hello World"
   ],
   "metadata": {
    "collapsed": false
   }
  },
  {
   "cell_type": "code",
   "execution_count": 3,
   "outputs": [],
   "source": [
    "app.layout = html.Div([\n",
    "    html.H1(\"Hello Dash\"),\n",
    "    html.Div(\"Dash: A web application framework for Python.\")\n",
    "])"
   ],
   "metadata": {
    "collapsed": false,
    "ExecuteTime": {
     "start_time": "2023-04-07T22:53:20.202451Z",
     "end_time": "2023-04-07T22:53:20.203003Z"
    }
   }
  },
  {
   "cell_type": "code",
   "execution_count": 4,
   "outputs": [
    {
     "name": "stdout",
     "output_type": "stream",
     "text": [
      "Dash is running on http://127.0.0.1:8050/\n",
      "\n"
     ]
    },
    {
     "data": {
      "text/plain": "<IPython.lib.display.IFrame at 0x108f6ca90>",
      "text/html": "\n        <iframe\n            width=\"100%\"\n            height=\"650\"\n            src=\"http://127.0.0.1:8050/\"\n            frameborder=\"0\"\n            allowfullscreen\n            \n        ></iframe>\n        "
     },
     "metadata": {},
     "output_type": "display_data"
    }
   ],
   "source": [
    "app.run_server(mode='inline')"
   ],
   "metadata": {
    "collapsed": false,
    "ExecuteTime": {
     "start_time": "2023-04-07T22:53:20.204882Z",
     "end_time": "2023-04-07T22:53:20.212281Z"
    }
   }
  },
  {
   "cell_type": "markdown",
   "source": [
    "## Connecting to Data"
   ],
   "metadata": {
    "collapsed": false
   }
  },
  {
   "cell_type": "code",
   "execution_count": 5,
   "outputs": [],
   "source": [
    "from dash import dash_table\n",
    "import pandas as pd"
   ],
   "metadata": {
    "collapsed": false,
    "ExecuteTime": {
     "start_time": "2023-04-07T22:54:16.867863Z",
     "end_time": "2023-04-07T22:54:17.258453Z"
    }
   }
  },
  {
   "cell_type": "code",
   "execution_count": 6,
   "outputs": [],
   "source": [
    "# Incorporate data\n",
    "df = pd.read_csv('https://raw.githubusercontent.com/plotly/datasets/master/gapminder2007.csv')"
   ],
   "metadata": {
    "collapsed": false,
    "ExecuteTime": {
     "start_time": "2023-04-07T22:54:24.369840Z",
     "end_time": "2023-04-07T22:54:24.738092Z"
    }
   }
  },
  {
   "cell_type": "code",
   "execution_count": 7,
   "outputs": [],
   "source": [
    "app = JupyterDash(__name__)"
   ],
   "metadata": {
    "collapsed": false,
    "ExecuteTime": {
     "start_time": "2023-04-07T22:54:37.554820Z",
     "end_time": "2023-04-07T22:54:37.560563Z"
    }
   }
  },
  {
   "cell_type": "code",
   "execution_count": 8,
   "outputs": [],
   "source": [
    "title = html.H1(children='My First App with Data')\n",
    "table = dash_table.DataTable(\n",
    "    data=df.to_dict('records'),\n",
    "    page_size=10,\n",
    ")"
   ],
   "metadata": {
    "collapsed": false,
    "ExecuteTime": {
     "start_time": "2023-04-07T22:55:51.098792Z",
     "end_time": "2023-04-07T22:55:51.104055Z"
    }
   }
  },
  {
   "cell_type": "code",
   "execution_count": 9,
   "outputs": [],
   "source": [
    "app.layout = html.Div([\n",
    "    title,\n",
    "    table\n",
    "])"
   ],
   "metadata": {
    "collapsed": false,
    "ExecuteTime": {
     "start_time": "2023-04-07T22:55:55.285791Z",
     "end_time": "2023-04-07T22:55:55.291288Z"
    }
   }
  },
  {
   "cell_type": "code",
   "execution_count": 10,
   "outputs": [
    {
     "name": "stdout",
     "output_type": "stream",
     "text": [
      "Dash is running on http://127.0.0.1:8050/\n",
      "\n"
     ]
    },
    {
     "data": {
      "text/plain": "<IPython.lib.display.IFrame at 0x10fa4bb90>",
      "text/html": "\n        <iframe\n            width=\"100%\"\n            height=\"650\"\n            src=\"http://127.0.0.1:8050/\"\n            frameborder=\"0\"\n            allowfullscreen\n            \n        ></iframe>\n        "
     },
     "metadata": {},
     "output_type": "display_data"
    }
   ],
   "source": [
    "app.run_server(mode='inline')"
   ],
   "metadata": {
    "collapsed": false,
    "ExecuteTime": {
     "start_time": "2023-04-07T22:55:58.777063Z",
     "end_time": "2023-04-07T22:55:59.227199Z"
    }
   }
  },
  {
   "cell_type": "markdown",
   "source": [
    "## Visualizing Data"
   ],
   "metadata": {
    "collapsed": false
   }
  },
  {
   "cell_type": "code",
   "execution_count": 11,
   "outputs": [],
   "source": [
    "from dash import dcc\n",
    "import plotly.express as px"
   ],
   "metadata": {
    "collapsed": false,
    "ExecuteTime": {
     "start_time": "2023-04-07T22:56:51.897706Z",
     "end_time": "2023-04-07T22:56:51.946152Z"
    }
   }
  },
  {
   "cell_type": "code",
   "execution_count": 12,
   "outputs": [],
   "source": [
    "app = JupyterDash(__name__)"
   ],
   "metadata": {
    "collapsed": false,
    "ExecuteTime": {
     "start_time": "2023-04-07T22:56:55.942457Z",
     "end_time": "2023-04-07T22:56:55.950412Z"
    }
   }
  },
  {
   "cell_type": "code",
   "execution_count": 14,
   "outputs": [],
   "source": [
    "graph = dcc.Graph(\n",
    "    figure=px.histogram(\n",
    "        df,\n",
    "        x=\"continent\",\n",
    "        y=\"lifeExp\",\n",
    "        histfunc=\"avg\",\n",
    "    )\n",
    ")"
   ],
   "metadata": {
    "collapsed": false,
    "ExecuteTime": {
     "start_time": "2023-04-07T22:58:12.154933Z",
     "end_time": "2023-04-07T22:58:12.334633Z"
    }
   }
  },
  {
   "cell_type": "code",
   "execution_count": 15,
   "outputs": [],
   "source": [
    "app.layout = html.Div([\n",
    "    title,\n",
    "    table,\n",
    "    graph\n",
    "])"
   ],
   "metadata": {
    "collapsed": false,
    "ExecuteTime": {
     "start_time": "2023-04-07T22:58:13.421357Z",
     "end_time": "2023-04-07T22:58:13.426155Z"
    }
   }
  },
  {
   "cell_type": "code",
   "execution_count": 16,
   "outputs": [
    {
     "name": "stdout",
     "output_type": "stream",
     "text": [
      "Dash is running on http://127.0.0.1:8050/\n",
      "\n"
     ]
    },
    {
     "data": {
      "text/plain": "<IPython.lib.display.IFrame at 0x10b331590>",
      "text/html": "\n        <iframe\n            width=\"100%\"\n            height=\"650\"\n            src=\"http://127.0.0.1:8050/\"\n            frameborder=\"0\"\n            allowfullscreen\n            \n        ></iframe>\n        "
     },
     "metadata": {},
     "output_type": "display_data"
    }
   ],
   "source": [
    "app.run_server(mode='inline')"
   ],
   "metadata": {
    "collapsed": false,
    "ExecuteTime": {
     "start_time": "2023-04-07T22:58:16.337845Z",
     "end_time": "2023-04-07T22:58:16.730345Z"
    }
   }
  },
  {
   "cell_type": "markdown",
   "source": [
    "## Controls and Callbacks"
   ],
   "metadata": {
    "collapsed": false
   }
  },
  {
   "cell_type": "code",
   "execution_count": 17,
   "outputs": [],
   "source": [
    "from dash import callback, Input, Output"
   ],
   "metadata": {
    "collapsed": false,
    "ExecuteTime": {
     "start_time": "2023-04-07T22:59:06.842377Z",
     "end_time": "2023-04-07T22:59:06.854597Z"
    }
   }
  },
  {
   "cell_type": "code",
   "execution_count": 18,
   "outputs": [],
   "source": [
    "app = JupyterDash(__name__)"
   ],
   "metadata": {
    "collapsed": false,
    "ExecuteTime": {
     "start_time": "2023-04-07T22:59:08.743907Z",
     "end_time": "2023-04-07T22:59:08.747057Z"
    }
   }
  },
  {
   "cell_type": "code",
   "execution_count": 19,
   "outputs": [],
   "source": [
    "title = html.H1(children='My First App with Data, Graph, and Controls')\n",
    "rule = html.Hr()\n",
    "radio = dcc.RadioItems(\n",
    "    options=[\n",
    "        'pop',\n",
    "        'lifeExp',\n",
    "        'gdpPercap'\n",
    "    ],\n",
    "    value=\"lifeExp\",\n",
    ")\n",
    "table = dash_table.DataTable(\n",
    "    data=df.to_dict('records'),\n",
    "    page_size=6,\n",
    ")\n",
    "graph = dcc.Graph(figure={})"
   ],
   "metadata": {
    "collapsed": false,
    "ExecuteTime": {
     "start_time": "2023-04-07T23:02:55.816250Z",
     "end_time": "2023-04-07T23:02:55.821244Z"
    }
   }
  },
  {
   "cell_type": "code",
   "execution_count": 20,
   "outputs": [],
   "source": [
    "app.layout = html.Div([\n",
    "    title,\n",
    "    rule,\n",
    "    radio,\n",
    "    table,\n",
    "    graph\n",
    "])"
   ],
   "metadata": {
    "collapsed": false,
    "ExecuteTime": {
     "start_time": "2023-04-07T23:03:09.429110Z",
     "end_time": "2023-04-07T23:03:09.438725Z"
    }
   }
  },
  {
   "cell_type": "code",
   "execution_count": 21,
   "outputs": [],
   "source": [
    "@app.callback(\n",
    "    Output(graph, component_property='figure'),\n",
    "    Input(radio, component_property='value')\n",
    ")\n",
    "def update_graph(value):\n",
    "    return px.histogram(\n",
    "        df,\n",
    "        x=\"continent\",\n",
    "        y=value,\n",
    "        histfunc=\"avg\",\n",
    "    )"
   ],
   "metadata": {
    "collapsed": false,
    "ExecuteTime": {
     "start_time": "2023-04-07T23:03:45.979183Z",
     "end_time": "2023-04-07T23:03:45.989086Z"
    }
   }
  },
  {
   "cell_type": "code",
   "execution_count": 22,
   "outputs": [
    {
     "name": "stdout",
     "output_type": "stream",
     "text": [
      "Dash is running on http://127.0.0.1:8050/\n",
      "\n"
     ]
    },
    {
     "data": {
      "text/plain": "<IPython.lib.display.IFrame at 0x11dd1aad0>",
      "text/html": "\n        <iframe\n            width=\"100%\"\n            height=\"650\"\n            src=\"http://127.0.0.1:8050/\"\n            frameborder=\"0\"\n            allowfullscreen\n            \n        ></iframe>\n        "
     },
     "metadata": {},
     "output_type": "display_data"
    }
   ],
   "source": [
    "app.run_server(mode='inline')"
   ],
   "metadata": {
    "collapsed": false,
    "ExecuteTime": {
     "start_time": "2023-04-07T23:03:47.995358Z",
     "end_time": "2023-04-07T23:03:48.337223Z"
    }
   }
  },
  {
   "cell_type": "markdown",
   "source": [
    "## Styling and Customization\n",
    "\n",
    "to enhance the layout style of a Dash app:\n",
    "\n",
    "- HTML and CSS\n",
    "- Dash Design Kit (DDK)\n",
    "- Dash Bootstrap Components\n",
    "- Dash Mantine Components"
   ],
   "metadata": {
    "collapsed": false
   }
  },
  {
   "cell_type": "markdown",
   "source": [
    "### HTML and CSS"
   ],
   "metadata": {
    "collapsed": false
   }
  },
  {
   "cell_type": "code",
   "execution_count": 43,
   "outputs": [],
   "source": [
    "external_stylesheets = [\n",
    "    'https://codepen.io/chriddyp/pen/bWLwgP.css',\n",
    "]"
   ],
   "metadata": {
    "collapsed": false,
    "ExecuteTime": {
     "start_time": "2023-04-07T23:17:43.049407Z",
     "end_time": "2023-04-07T23:17:43.058474Z"
    }
   }
  },
  {
   "cell_type": "code",
   "execution_count": 44,
   "outputs": [],
   "source": [
    "app = JupyterDash(__name__, external_stylesheets=external_stylesheets)"
   ],
   "metadata": {
    "collapsed": false,
    "ExecuteTime": {
     "start_time": "2023-04-07T23:17:43.554638Z",
     "end_time": "2023-04-07T23:17:43.558025Z"
    }
   }
  },
  {
   "cell_type": "code",
   "execution_count": 45,
   "outputs": [],
   "source": [
    "title = html.Div(\n",
    "    className='row',\n",
    "    children='My First App with Data, Graph, and Controls',\n",
    "    style={\n",
    "        'textAlign': 'center',\n",
    "        'color': '#7FDBFF',\n",
    "        'font-size': 30,\n",
    "    },\n",
    ")\n",
    "\n",
    "radio = html.Div(\n",
    "    className='row',\n",
    "    children=[\n",
    "        dcc.RadioItems(\n",
    "            options=[\n",
    "                'pop',\n",
    "                'lifeExp',\n",
    "                'gdpPercap'\n",
    "            ],\n",
    "            value=\"lifeExp\",\n",
    "            inline=True,\n",
    "            id='radio',\n",
    "        ),\n",
    "    ],\n",
    ")\n",
    "\n",
    "div = html.Div(\n",
    "    className='row',\n",
    "    children=[\n",
    "        # table\n",
    "        html.Div(\n",
    "            className='six columns',\n",
    "            children=dash_table.DataTable(\n",
    "                data=df.to_dict('records'),\n",
    "                page_size=10,\n",
    "            ),\n",
    "        ),\n",
    "        # graph\n",
    "        html.Div(\n",
    "            className='six columns',\n",
    "            children=dcc.Graph(\n",
    "                figure={},\n",
    "                id='graph',\n",
    "            ),\n",
    "        ),\n",
    "    ],\n",
    ")"
   ],
   "metadata": {
    "collapsed": false,
    "ExecuteTime": {
     "start_time": "2023-04-07T23:17:44.126372Z",
     "end_time": "2023-04-07T23:17:44.131260Z"
    }
   }
  },
  {
   "cell_type": "code",
   "execution_count": 46,
   "outputs": [],
   "source": [
    "app.layout = html.Div([\n",
    "    title,\n",
    "    radio,\n",
    "    div,\n",
    "])"
   ],
   "metadata": {
    "collapsed": false,
    "ExecuteTime": {
     "start_time": "2023-04-07T23:17:44.696636Z",
     "end_time": "2023-04-07T23:17:44.702662Z"
    }
   }
  },
  {
   "cell_type": "code",
   "execution_count": 47,
   "outputs": [],
   "source": [
    "@app.callback(\n",
    "    Output('graph', component_property='figure'),\n",
    "    Input('radio', component_property='value')\n",
    ")\n",
    "def update_graph(value):\n",
    "    return px.histogram(\n",
    "        df,\n",
    "        x=\"continent\",\n",
    "        y=value,\n",
    "        histfunc=\"avg\",\n",
    "    )"
   ],
   "metadata": {
    "collapsed": false,
    "ExecuteTime": {
     "start_time": "2023-04-07T23:17:45.554447Z",
     "end_time": "2023-04-07T23:17:45.562731Z"
    }
   }
  },
  {
   "cell_type": "code",
   "execution_count": 48,
   "outputs": [
    {
     "name": "stdout",
     "output_type": "stream",
     "text": [
      "Dash is running on http://127.0.0.1:8050/\n",
      "\n"
     ]
    },
    {
     "data": {
      "text/plain": "<IPython.lib.display.IFrame at 0x11eed5990>",
      "text/html": "\n        <iframe\n            width=\"100%\"\n            height=\"650\"\n            src=\"http://127.0.0.1:8050/\"\n            frameborder=\"0\"\n            allowfullscreen\n            \n        ></iframe>\n        "
     },
     "metadata": {},
     "output_type": "display_data"
    }
   ],
   "source": [
    "app.run_server(mode='inline')"
   ],
   "metadata": {
    "collapsed": false,
    "ExecuteTime": {
     "start_time": "2023-04-07T23:17:46.466071Z",
     "end_time": "2023-04-07T23:17:46.969662Z"
    }
   }
  },
  {
   "cell_type": "markdown",
   "source": [
    "### Dash Design Kit (DDK)"
   ],
   "metadata": {
    "collapsed": false
   }
  },
  {
   "cell_type": "code",
   "execution_count": 54,
   "outputs": [
    {
     "name": "stdout",
     "output_type": "stream",
     "text": [
      "Requirement already satisfied: dash-design-kit in /Users/azat/Developer/Plotly-Dash/venv/lib/python3.11/site-packages (0.0.1)\r\n"
     ]
    }
   ],
   "source": [
    "!pip install dash-design-kit"
   ],
   "metadata": {
    "collapsed": false,
    "ExecuteTime": {
     "start_time": "2023-04-07T23:18:57.012329Z",
     "end_time": "2023-04-07T23:18:57.766517Z"
    }
   }
  },
  {
   "cell_type": "code",
   "execution_count": 57,
   "outputs": [
    {
     "ename": "Exception",
     "evalue": "\n\n    dash-design-kit is a commercial package distributed on\n    instances of Dash Enterprise https://plotly.com/dash/.\n    You have installed a non-functional stub version of the package\n    from pypi.org instead of from a private Dash Enterprise instance.\n    If you are a Dash Enterprise customer, please ensure you've\n    installed dash-design-kit with the `--extra-index-url` argument,\n    either in your requirements.txt file or in the command line,\n    so that the package is installed from Dash Enterprise's private,\n    commercial package repository instead of from pypi.org.\n    Visit the docs for your Dash Enterprise installation at:\n    https://<your-dash-enterprise-instance>/Docs\n    for details.\n\n",
     "output_type": "error",
     "traceback": [
      "\u001B[0;31m---------------------------------------------------------------------------\u001B[0m",
      "\u001B[0;31mException\u001B[0m                                 Traceback (most recent call last)",
      "Cell \u001B[0;32mIn[57], line 1\u001B[0m\n\u001B[0;32m----> 1\u001B[0m \u001B[38;5;28;01mimport\u001B[39;00m \u001B[38;5;21;01mdash_design_kit\u001B[39;00m \u001B[38;5;28;01mas\u001B[39;00m \u001B[38;5;21;01mddk\u001B[39;00m\n",
      "File \u001B[0;32m~/Developer/Plotly-Dash/venv/lib/python3.11/site-packages/dash_design_kit/__init__.py:1\u001B[0m\n\u001B[0;32m----> 1\u001B[0m \u001B[38;5;28;01mraise\u001B[39;00m \u001B[38;5;167;01mException\u001B[39;00m(\u001B[38;5;124m\"\"\"\u001B[39m\n\u001B[1;32m      2\u001B[0m \n\u001B[1;32m      3\u001B[0m \u001B[38;5;124m    dash-design-kit is a commercial package distributed on\u001B[39m\n\u001B[1;32m      4\u001B[0m \u001B[38;5;124m    instances of Dash Enterprise https://plotly.com/dash/.\u001B[39m\n\u001B[1;32m      5\u001B[0m \u001B[38;5;124m    You have installed a non-functional stub version of the package\u001B[39m\n\u001B[1;32m      6\u001B[0m \u001B[38;5;124m    from pypi.org instead of from a private Dash Enterprise instance.\u001B[39m\n\u001B[1;32m      7\u001B[0m \u001B[38;5;124m    If you are a Dash Enterprise customer, please ensure you\u001B[39m\u001B[38;5;124m'\u001B[39m\u001B[38;5;124mve\u001B[39m\n\u001B[1;32m      8\u001B[0m \u001B[38;5;124m    installed dash-design-kit with the `--extra-index-url` argument,\u001B[39m\n\u001B[1;32m      9\u001B[0m \u001B[38;5;124m    either in your requirements.txt file or in the command line,\u001B[39m\n\u001B[1;32m     10\u001B[0m \u001B[38;5;124m    so that the package is installed from Dash Enterprise\u001B[39m\u001B[38;5;124m'\u001B[39m\u001B[38;5;124ms private,\u001B[39m\n\u001B[1;32m     11\u001B[0m \u001B[38;5;124m    commercial package repository instead of from pypi.org.\u001B[39m\n\u001B[1;32m     12\u001B[0m \u001B[38;5;124m    Visit the docs for your Dash Enterprise installation at:\u001B[39m\n\u001B[1;32m     13\u001B[0m \u001B[38;5;124m    https://<your-dash-enterprise-instance>/Docs\u001B[39m\n\u001B[1;32m     14\u001B[0m \u001B[38;5;124m    for details.\u001B[39m\n\u001B[1;32m     15\u001B[0m \n\u001B[1;32m     16\u001B[0m \u001B[38;5;124m\"\"\"\u001B[39m)\n",
      "\u001B[0;31mException\u001B[0m: \n\n    dash-design-kit is a commercial package distributed on\n    instances of Dash Enterprise https://plotly.com/dash/.\n    You have installed a non-functional stub version of the package\n    from pypi.org instead of from a private Dash Enterprise instance.\n    If you are a Dash Enterprise customer, please ensure you've\n    installed dash-design-kit with the `--extra-index-url` argument,\n    either in your requirements.txt file or in the command line,\n    so that the package is installed from Dash Enterprise's private,\n    commercial package repository instead of from pypi.org.\n    Visit the docs for your Dash Enterprise installation at:\n    https://<your-dash-enterprise-instance>/Docs\n    for details.\n\n"
     ]
    }
   ],
   "source": [
    "import dash_design_kit as ddk"
   ],
   "metadata": {
    "collapsed": false
   }
  },
  {
   "cell_type": "markdown",
   "source": [
    "### Dash Bootstrap Components"
   ],
   "metadata": {
    "collapsed": false
   }
  },
  {
   "cell_type": "code",
   "execution_count": 59,
   "outputs": [],
   "source": [
    "import dash_bootstrap_components as dbc"
   ],
   "metadata": {
    "collapsed": false,
    "ExecuteTime": {
     "start_time": "2023-04-07T23:20:24.366251Z",
     "end_time": "2023-04-07T23:20:24.376105Z"
    }
   }
  },
  {
   "cell_type": "code",
   "execution_count": 60,
   "outputs": [],
   "source": [
    "external_stylesheets = [dbc.themes.CERULEAN]"
   ],
   "metadata": {
    "collapsed": false,
    "ExecuteTime": {
     "start_time": "2023-04-07T23:20:25.797464Z",
     "end_time": "2023-04-07T23:20:25.801346Z"
    }
   }
  },
  {
   "cell_type": "code",
   "execution_count": 70,
   "outputs": [],
   "source": [
    "app = JupyterDash(__name__, external_stylesheets=external_stylesheets)"
   ],
   "metadata": {
    "collapsed": false,
    "ExecuteTime": {
     "start_time": "2023-04-07T23:22:15.502430Z",
     "end_time": "2023-04-07T23:22:15.510409Z"
    }
   }
  },
  {
   "cell_type": "code",
   "execution_count": 71,
   "outputs": [],
   "source": [
    "title = dbc.Row(\n",
    "    dbc.Col(\n",
    "        html.H1(\"My First App with Data, Graph, and Controls\"),\n",
    "        width=12,\n",
    "    ),\n",
    "    justify='center',\n",
    "    align='center',\n",
    "    style={\n",
    "        'color': '#7FDBFF',\n",
    "    },\n",
    ")"
   ],
   "metadata": {
    "collapsed": false,
    "ExecuteTime": {
     "start_time": "2023-04-07T23:22:16.472307Z",
     "end_time": "2023-04-07T23:22:16.477425Z"
    }
   }
  },
  {
   "cell_type": "code",
   "execution_count": 72,
   "outputs": [],
   "source": [
    "rule = html.Hr()"
   ],
   "metadata": {
    "collapsed": false,
    "ExecuteTime": {
     "start_time": "2023-04-07T23:22:17.223978Z",
     "end_time": "2023-04-07T23:22:17.226329Z"
    }
   }
  },
  {
   "cell_type": "code",
   "execution_count": 73,
   "outputs": [],
   "source": [
    "radio = dbc.Row(\n",
    "    dbc.Col(\n",
    "        dcc.RadioItems(\n",
    "            options=[\n",
    "                'pop',\n",
    "                'lifeExp',\n",
    "                'gdpPercap'\n",
    "            ],\n",
    "            value=\"lifeExp\",\n",
    "            inline=True,\n",
    "            id='radio',\n",
    "        ),\n",
    "        width=12,\n",
    "    ),\n",
    "    justify='center',\n",
    "    align='center',\n",
    ")"
   ],
   "metadata": {
    "collapsed": false,
    "ExecuteTime": {
     "start_time": "2023-04-07T23:22:17.610559Z",
     "end_time": "2023-04-07T23:22:17.612310Z"
    }
   }
  },
  {
   "cell_type": "code",
   "execution_count": 74,
   "outputs": [],
   "source": [
    "div = dbc.Row(\n",
    "    [\n",
    "        # table\n",
    "        dbc.Col(\n",
    "            dash_table.DataTable(\n",
    "                data=df.to_dict('records'),\n",
    "                page_size=10,\n",
    "            ),\n",
    "            width=6,\n",
    "        ),\n",
    "        # graph\n",
    "        dbc.Col(\n",
    "            dcc.Graph(\n",
    "                figure={},\n",
    "                id='graph',\n",
    "            ),\n",
    "            width=6,\n",
    "        ),\n",
    "    ],\n",
    "    justify='center',\n",
    "    align='center',\n",
    ")"
   ],
   "metadata": {
    "collapsed": false,
    "ExecuteTime": {
     "start_time": "2023-04-07T23:22:17.928464Z",
     "end_time": "2023-04-07T23:22:17.934798Z"
    }
   }
  },
  {
   "cell_type": "code",
   "execution_count": 75,
   "outputs": [],
   "source": [
    "app.layout = html.Div([\n",
    "    title,\n",
    "    rule,\n",
    "    radio,\n",
    "    div,\n",
    "])"
   ],
   "metadata": {
    "collapsed": false,
    "ExecuteTime": {
     "start_time": "2023-04-07T23:22:18.581056Z",
     "end_time": "2023-04-07T23:22:18.582779Z"
    }
   }
  },
  {
   "cell_type": "code",
   "execution_count": 76,
   "outputs": [],
   "source": [
    "@app.callback(\n",
    "    Output('graph', component_property='figure'),\n",
    "    Input('radio', component_property='value')\n",
    ")\n",
    "def update_graph(value):\n",
    "    return px.histogram(\n",
    "        df,\n",
    "        x=\"continent\",\n",
    "        y=value,\n",
    "        histfunc=\"avg\",\n",
    "    )"
   ],
   "metadata": {
    "collapsed": false,
    "ExecuteTime": {
     "start_time": "2023-04-07T23:22:19.191122Z",
     "end_time": "2023-04-07T23:22:19.192875Z"
    }
   }
  },
  {
   "cell_type": "code",
   "execution_count": 77,
   "outputs": [
    {
     "name": "stdout",
     "output_type": "stream",
     "text": [
      "Dash is running on http://127.0.0.1:8050/\n",
      "\n"
     ]
    },
    {
     "data": {
      "text/plain": "<IPython.lib.display.IFrame at 0x11f855a50>",
      "text/html": "\n        <iframe\n            width=\"100%\"\n            height=\"650\"\n            src=\"http://127.0.0.1:8050/\"\n            frameborder=\"0\"\n            allowfullscreen\n            \n        ></iframe>\n        "
     },
     "metadata": {},
     "output_type": "display_data"
    }
   ],
   "source": [
    "app.run_server(mode='inline')"
   ],
   "metadata": {
    "collapsed": false,
    "ExecuteTime": {
     "start_time": "2023-04-07T23:22:23.930256Z",
     "end_time": "2023-04-07T23:22:24.157927Z"
    }
   }
  },
  {
   "cell_type": "markdown",
   "source": [
    "### Dash Mantine Components"
   ],
   "metadata": {
    "collapsed": false
   }
  },
  {
   "cell_type": "code",
   "execution_count": 78,
   "outputs": [],
   "source": [
    "import dash_mantine_components as dmc"
   ],
   "metadata": {
    "collapsed": false,
    "ExecuteTime": {
     "start_time": "2023-04-07T23:23:08.154218Z",
     "end_time": "2023-04-07T23:23:08.177956Z"
    }
   }
  },
  {
   "cell_type": "code",
   "execution_count": 79,
   "outputs": [],
   "source": [
    "external_stylesheets = [dmc.theme.DEFAULT_COLORS]"
   ],
   "metadata": {
    "collapsed": false,
    "ExecuteTime": {
     "start_time": "2023-04-07T23:23:14.851732Z",
     "end_time": "2023-04-07T23:23:14.870999Z"
    }
   }
  },
  {
   "cell_type": "code",
   "execution_count": 80,
   "outputs": [],
   "source": [
    "app = JupyterDash(__name__, external_stylesheets=external_stylesheets)"
   ],
   "metadata": {
    "collapsed": false,
    "ExecuteTime": {
     "start_time": "2023-04-07T23:23:18.018986Z",
     "end_time": "2023-04-07T23:23:18.038361Z"
    }
   }
  },
  {
   "cell_type": "code",
   "execution_count": 81,
   "outputs": [],
   "source": [
    "title = dmc.Title(\"My First App with Data, Graph, and Controls\", color='teal', size='xl')"
   ],
   "metadata": {
    "collapsed": false,
    "ExecuteTime": {
     "start_time": "2023-04-07T23:23:52.000053Z",
     "end_time": "2023-04-07T23:23:52.032387Z"
    }
   }
  },
  {
   "cell_type": "code",
   "execution_count": 82,
   "outputs": [],
   "source": [
    "rule = html.Hr()"
   ],
   "metadata": {
    "collapsed": false,
    "ExecuteTime": {
     "start_time": "2023-04-07T23:23:54.295306Z",
     "end_time": "2023-04-07T23:23:54.317324Z"
    }
   }
  },
  {
   "cell_type": "code",
   "execution_count": 84,
   "outputs": [],
   "source": [
    "radio = dmc.RadioGroup(\n",
    "    [dmc.Radio(i, value=i) for i in [\n",
    "        'pop',\n",
    "        'lifeExp',\n",
    "        'gdpPercap'\n",
    "    ]],\n",
    "    value=\"lifeExp\",\n",
    "    size='sm',\n",
    "    id='radio',\n",
    ")"
   ],
   "metadata": {
    "collapsed": false,
    "ExecuteTime": {
     "start_time": "2023-04-07T23:25:44.182113Z",
     "end_time": "2023-04-07T23:25:44.184501Z"
    }
   }
  },
  {
   "cell_type": "code",
   "execution_count": 85,
   "outputs": [],
   "source": [
    "content = dmc.Grid([\n",
    "    dmc.Col([\n",
    "        dash_table.DataTable(\n",
    "            data=df.to_dict('records'),\n",
    "            page_size=12,\n",
    "            style_table={'overflowX': 'auto'}\n",
    "        ),\n",
    "    ], span=6),\n",
    "    dmc.Col([\n",
    "        dcc.Graph(\n",
    "            figure={},\n",
    "            id='graph',\n",
    "        ),\n",
    "    ], span=6),\n",
    "])"
   ],
   "metadata": {
    "collapsed": false,
    "ExecuteTime": {
     "start_time": "2023-04-07T23:28:08.233612Z",
     "end_time": "2023-04-07T23:28:08.269479Z"
    }
   }
  },
  {
   "cell_type": "code",
   "execution_count": 87,
   "outputs": [],
   "source": [
    "app.layout = dmc.Container([\n",
    "    title,\n",
    "    rule,\n",
    "    radio,\n",
    "    content,\n",
    "],fluid=True)"
   ],
   "metadata": {
    "collapsed": false,
    "ExecuteTime": {
     "start_time": "2023-04-07T23:28:30.348787Z",
     "end_time": "2023-04-07T23:28:30.351066Z"
    }
   }
  },
  {
   "cell_type": "code",
   "execution_count": 88,
   "outputs": [],
   "source": [
    "@app.callback(\n",
    "    Output('graph', component_property='figure'),\n",
    "    Input('radio', component_property='value')\n",
    ")\n",
    "def update_graph(value):\n",
    "    return px.histogram(\n",
    "        df,\n",
    "        x=\"continent\",\n",
    "        y=value,\n",
    "        histfunc=\"avg\",\n",
    "    )"
   ],
   "metadata": {
    "collapsed": false,
    "ExecuteTime": {
     "start_time": "2023-04-07T23:28:39.105358Z",
     "end_time": "2023-04-07T23:28:39.128728Z"
    }
   }
  },
  {
   "cell_type": "code",
   "execution_count": 89,
   "outputs": [
    {
     "name": "stdout",
     "output_type": "stream",
     "text": [
      "Dash is running on http://127.0.0.1:8050/\n",
      "\n"
     ]
    },
    {
     "data": {
      "text/plain": "<IPython.lib.display.IFrame at 0x12c572390>",
      "text/html": "\n        <iframe\n            width=\"100%\"\n            height=\"650\"\n            src=\"http://127.0.0.1:8050/\"\n            frameborder=\"0\"\n            allowfullscreen\n            \n        ></iframe>\n        "
     },
     "metadata": {},
     "output_type": "display_data"
    }
   ],
   "source": [
    "app.run_server(mode='inline')"
   ],
   "metadata": {
    "collapsed": false,
    "ExecuteTime": {
     "start_time": "2023-04-07T23:28:41.558311Z",
     "end_time": "2023-04-07T23:28:41.666471Z"
    }
   }
  }
 ],
 "metadata": {
  "kernelspec": {
   "display_name": "Python 3",
   "language": "python",
   "name": "python3"
  },
  "language_info": {
   "codemirror_mode": {
    "name": "ipython",
    "version": 2
   },
   "file_extension": ".py",
   "mimetype": "text/x-python",
   "name": "python",
   "nbconvert_exporter": "python",
   "pygments_lexer": "ipython2",
   "version": "2.7.6"
  }
 },
 "nbformat": 4,
 "nbformat_minor": 0
}
