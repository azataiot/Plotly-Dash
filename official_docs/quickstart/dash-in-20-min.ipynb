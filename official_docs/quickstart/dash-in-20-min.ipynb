{
 "cells": [
  {
   "cell_type": "markdown",
   "source": [
    "# Dash in 20 minutes"
   ],
   "metadata": {
    "collapsed": false
   }
  },
  {
   "cell_type": "code",
   "execution_count": 4,
   "outputs": [],
   "source": [
    "from jupyter_dash import JupyterDash\n",
    "from dash import Dash, html"
   ],
   "metadata": {
    "collapsed": false,
    "ExecuteTime": {
     "start_time": "2023-04-07T23:38:57.468336Z",
     "end_time": "2023-04-07T23:38:57.501051Z"
    }
   }
  },
  {
   "cell_type": "code",
   "execution_count": 3,
   "metadata": {
    "collapsed": true,
    "ExecuteTime": {
     "start_time": "2023-04-07T23:33:04.426960Z",
     "end_time": "2023-04-07T23:33:04.437916Z"
    }
   },
   "outputs": [],
   "source": [
    "app = JupyterDash(__name__)"
   ]
  },
  {
   "cell_type": "markdown",
   "source": [
    "## Hello World"
   ],
   "metadata": {
    "collapsed": false
   }
  },
  {
   "cell_type": "code",
   "execution_count": 4,
   "outputs": [],
   "source": [
    "app.layout = html.Div([\n",
    "    html.H1(\"Hello Dash\"),\n",
    "    html.Div(\"Dash: A web application framework for Python.\")\n",
    "])"
   ],
   "metadata": {
    "collapsed": false,
    "ExecuteTime": {
     "start_time": "2023-04-07T23:33:06.816085Z",
     "end_time": "2023-04-07T23:33:06.820294Z"
    }
   }
  },
  {
   "cell_type": "code",
   "execution_count": 5,
   "outputs": [
    {
     "name": "stdout",
     "output_type": "stream",
     "text": [
      "Dash is running on http://127.0.0.1:8050/\n",
      "\n",
      "Dash app running on http://127.0.0.1:8050/\n"
     ]
    }
   ],
   "source": [
    "app.run_server(mode='inline')"
   ],
   "metadata": {
    "collapsed": false,
    "ExecuteTime": {
     "start_time": "2023-04-07T23:33:07.557162Z",
     "end_time": "2023-04-07T23:33:07.565807Z"
    }
   }
  },
  {
   "cell_type": "markdown",
   "source": [
    "## Connecting to Data"
   ],
   "metadata": {
    "collapsed": false
   }
  },
  {
   "cell_type": "code",
   "execution_count": 5,
   "outputs": [],
   "source": [
    "from dash import dash_table\n",
    "import pandas as pd"
   ],
   "metadata": {
    "collapsed": false,
    "ExecuteTime": {
     "start_time": "2023-04-07T22:54:16.867863Z",
     "end_time": "2023-04-07T22:54:17.258453Z"
    }
   }
  },
  {
   "cell_type": "code",
   "execution_count": 5,
   "outputs": [],
   "source": [
    "# Incorporate data\n",
    "df = pd.read_csv('https://raw.githubusercontent.com/plotly/datasets/master/gapminder2007.csv')"
   ],
   "metadata": {
    "collapsed": false,
    "ExecuteTime": {
     "start_time": "2023-04-07T23:39:01.121492Z",
     "end_time": "2023-04-07T23:39:01.369695Z"
    }
   }
  },
  {
   "cell_type": "code",
   "execution_count": 7,
   "outputs": [],
   "source": [
    "app = JupyterDash(__name__)"
   ],
   "metadata": {
    "collapsed": false,
    "ExecuteTime": {
     "start_time": "2023-04-07T23:33:50.553837Z",
     "end_time": "2023-04-07T23:33:50.966998Z"
    }
   }
  },
  {
   "cell_type": "code",
   "execution_count": 8,
   "outputs": [],
   "source": [
    "title = html.H1(children='My First App with Data')\n",
    "table = dash_table.DataTable(\n",
    "    data=df.to_dict('records'),\n",
    "    page_size=10,\n",
    ")"
   ],
   "metadata": {
    "collapsed": false,
    "ExecuteTime": {
     "start_time": "2023-04-07T23:33:51.035006Z",
     "end_time": "2023-04-07T23:33:51.041801Z"
    }
   }
  },
  {
   "cell_type": "code",
   "execution_count": 9,
   "outputs": [],
   "source": [
    "app.layout = html.Div([\n",
    "    title,\n",
    "    table\n",
    "])"
   ],
   "metadata": {
    "collapsed": false,
    "ExecuteTime": {
     "start_time": "2023-04-07T23:33:51.641734Z",
     "end_time": "2023-04-07T23:33:51.646431Z"
    }
   }
  },
  {
   "cell_type": "code",
   "execution_count": 10,
   "outputs": [],
   "source": [
    "app.run_server(mode='inline')"
   ],
   "metadata": {
    "collapsed": false,
    "ExecuteTime": {
     "start_time": "2023-04-07T23:33:54.920960Z",
     "end_time": "2023-04-07T23:33:54.926450Z"
    }
   }
  },
  {
   "cell_type": "markdown",
   "source": [
    "## Visualizing Data"
   ],
   "metadata": {
    "collapsed": false,
    "ExecuteTime": {
     "start_time": "2023-04-07T23:34:01.271648Z",
     "end_time": "2023-04-07T23:34:01.701175Z"
    }
   },
   "outputs": [
    {
     "name": "stdout",
     "output_type": "stream",
     "text": [
      "Dash is running on http://127.0.0.1:8050/\n",
      "\n",
      "Dash app running on http://127.0.0.1:8050/\n"
     ]
    }
   ],
   "execution_count": 11
  },
  {
   "cell_type": "code",
   "execution_count": 11,
   "outputs": [],
   "source": [
    "from dash import dcc\n",
    "import plotly.express as px"
   ],
   "metadata": {
    "collapsed": false,
    "ExecuteTime": {
     "start_time": "2023-04-07T22:56:51.897706Z",
     "end_time": "2023-04-07T22:56:51.946152Z"
    }
   }
  },
  {
   "cell_type": "code",
   "execution_count": 12,
   "outputs": [],
   "source": [
    "app = JupyterDash(__name__)"
   ],
   "metadata": {
    "collapsed": false,
    "ExecuteTime": {
     "start_time": "2023-04-07T22:56:55.942457Z",
     "end_time": "2023-04-07T22:56:55.950412Z"
    }
   }
  },
  {
   "cell_type": "code",
   "execution_count": 6,
   "outputs": [],
   "source": [
    "graph = dcc.Graph(\n",
    "    figure=px.histogram(\n",
    "        df,\n",
    "        x=\"continent\",\n",
    "        y=\"lifeExp\",\n",
    "        histfunc=\"avg\",\n",
    "    )\n",
    ")"
   ],
   "metadata": {
    "collapsed": false,
    "ExecuteTime": {
     "start_time": "2023-04-07T23:39:04.325583Z",
     "end_time": "2023-04-07T23:39:04.377949Z"
    }
   }
  },
  {
   "cell_type": "code",
   "execution_count": 13,
   "outputs": [],
   "source": [
    "app.layout = html.Div([\n",
    "    title,\n",
    "    table,\n",
    "    graph\n",
    "])"
   ],
   "metadata": {
    "collapsed": false,
    "ExecuteTime": {
     "start_time": "2023-04-07T23:34:25.246493Z",
     "end_time": "2023-04-07T23:34:25.254022Z"
    }
   }
  },
  {
   "cell_type": "code",
   "execution_count": 14,
   "outputs": [],
   "source": [
    "app.run_server(mode='inline')"
   ],
   "metadata": {
    "collapsed": false,
    "ExecuteTime": {
     "start_time": "2023-04-07T23:34:25.880106Z",
     "end_time": "2023-04-07T23:34:25.929020Z"
    }
   }
  },
  {
   "cell_type": "markdown",
   "source": [
    "## Controls and Callbacks"
   ],
   "metadata": {
    "collapsed": false,
    "ExecuteTime": {
     "start_time": "2023-04-07T23:34:27.087687Z",
     "end_time": "2023-04-07T23:34:27.090792Z"
    }
   },
   "outputs": [],
   "execution_count": 15
  },
  {
   "cell_type": "code",
   "execution_count": 16,
   "outputs": [
    {
     "name": "stdout",
     "output_type": "stream",
     "text": [
      "Dash is running on http://127.0.0.1:8050/\n",
      "\n",
      "Dash app running on http://127.0.0.1:8050/\n"
     ]
    }
   ],
   "source": [
    "from dash import callback, Input, Output"
   ],
   "metadata": {
    "collapsed": false,
    "ExecuteTime": {
     "start_time": "2023-04-07T23:34:30.760078Z",
     "end_time": "2023-04-07T23:34:31.010647Z"
    }
   }
  },
  {
   "cell_type": "code",
   "execution_count": 18,
   "outputs": [],
   "source": [
    "app = JupyterDash(__name__)"
   ],
   "metadata": {
    "collapsed": false,
    "ExecuteTime": {
     "start_time": "2023-04-07T22:59:08.743907Z",
     "end_time": "2023-04-07T22:59:08.747057Z"
    }
   }
  },
  {
   "cell_type": "code",
   "execution_count": 19,
   "outputs": [],
   "source": [
    "title = html.H1(children='My First App with Data, Graph, and Controls')\n",
    "rule = html.Hr()\n",
    "radio = dcc.RadioItems(\n",
    "    options=[\n",
    "        'pop',\n",
    "        'lifeExp',\n",
    "        'gdpPercap'\n",
    "    ],\n",
    "    value=\"lifeExp\",\n",
    ")\n",
    "table = dash_table.DataTable(\n",
    "    data=df.to_dict('records'),\n",
    "    page_size=6,\n",
    ")\n",
    "graph = dcc.Graph(figure={})"
   ],
   "metadata": {
    "collapsed": false,
    "ExecuteTime": {
     "start_time": "2023-04-07T23:02:55.816250Z",
     "end_time": "2023-04-07T23:02:55.821244Z"
    }
   }
  },
  {
   "cell_type": "code",
   "execution_count": 7,
   "outputs": [],
   "source": [
    "app.layout = html.Div([\n",
    "    title,\n",
    "    rule,\n",
    "    radio,\n",
    "    table,\n",
    "    graph\n",
    "])"
   ],
   "metadata": {
    "collapsed": false,
    "ExecuteTime": {
     "start_time": "2023-04-07T23:39:07.418586Z",
     "end_time": "2023-04-07T23:39:07.423215Z"
    }
   }
  },
  {
   "cell_type": "code",
   "execution_count": 18,
   "outputs": [],
   "source": [
    "@app.callback(\n",
    "    Output(graph, component_property='figure'),\n",
    "    Input(radio, component_property='value')\n",
    ")\n",
    "def update_graph(value):\n",
    "    return px.histogram(\n",
    "        df,\n",
    "        x=\"continent\",\n",
    "        y=value,\n",
    "        histfunc=\"avg\",\n",
    "    )"
   ],
   "metadata": {
    "collapsed": false,
    "ExecuteTime": {
     "start_time": "2023-04-07T23:34:55.212602Z",
     "end_time": "2023-04-07T23:34:55.221876Z"
    }
   }
  },
  {
   "cell_type": "code",
   "execution_count": 19,
   "outputs": [],
   "source": [
    "app.run_server(mode='inline')"
   ],
   "metadata": {
    "collapsed": false,
    "ExecuteTime": {
     "start_time": "2023-04-07T23:34:55.765029Z",
     "end_time": "2023-04-07T23:34:55.766751Z"
    }
   }
  },
  {
   "cell_type": "markdown",
   "source": [
    "## Styling and Customization\n",
    "\n",
    "to enhance the layout style of a Dash app:\n",
    "\n",
    "- HTML and CSS\n",
    "- Dash Design Kit (DDK)\n",
    "- Dash Bootstrap Components\n",
    "- Dash Mantine Components"
   ],
   "metadata": {
    "collapsed": false,
    "ExecuteTime": {
     "start_time": "2023-04-07T23:34:56.842790Z",
     "end_time": "2023-04-07T23:34:56.846043Z"
    }
   },
   "outputs": [],
   "execution_count": 20
  },
  {
   "cell_type": "markdown",
   "source": [
    "### HTML and CSS"
   ],
   "metadata": {
    "collapsed": false,
    "ExecuteTime": {
     "start_time": "2023-04-07T23:34:57.328150Z",
     "end_time": "2023-04-07T23:34:57.330943Z"
    }
   },
   "outputs": [],
   "execution_count": 21
  },
  {
   "cell_type": "code",
   "execution_count": 22,
   "outputs": [
    {
     "name": "stdout",
     "output_type": "stream",
     "text": [
      "Dash is running on http://127.0.0.1:8050/\n",
      "\n",
      "Dash app running on http://127.0.0.1:8050/\n"
     ]
    }
   ],
   "source": [
    "external_stylesheets = [\n",
    "    'https://codepen.io/chriddyp/pen/bWLwgP.css',\n",
    "]"
   ],
   "metadata": {
    "collapsed": false,
    "ExecuteTime": {
     "start_time": "2023-04-07T23:35:09.631440Z",
     "end_time": "2023-04-07T23:35:10.145785Z"
    }
   }
  },
  {
   "cell_type": "code",
   "execution_count": 44,
   "outputs": [],
   "source": [
    "app = JupyterDash(__name__, external_stylesheets=external_stylesheets)"
   ],
   "metadata": {
    "collapsed": false,
    "ExecuteTime": {
     "start_time": "2023-04-07T23:17:43.554638Z",
     "end_time": "2023-04-07T23:17:43.558025Z"
    }
   }
  },
  {
   "cell_type": "code",
   "execution_count": 45,
   "outputs": [],
   "source": [
    "title = html.Div(\n",
    "    className='row',\n",
    "    children='My First App with Data, Graph, and Controls',\n",
    "    style={\n",
    "        'textAlign': 'center',\n",
    "        'color': '#7FDBFF',\n",
    "        'font-size': 30,\n",
    "    },\n",
    ")\n",
    "\n",
    "radio = html.Div(\n",
    "    className='row',\n",
    "    children=[\n",
    "        dcc.RadioItems(\n",
    "            options=[\n",
    "                'pop',\n",
    "                'lifeExp',\n",
    "                'gdpPercap'\n",
    "            ],\n",
    "            value=\"lifeExp\",\n",
    "            inline=True,\n",
    "            id='radio',\n",
    "        ),\n",
    "    ],\n",
    ")\n",
    "\n",
    "div = html.Div(\n",
    "    className='row',\n",
    "    children=[\n",
    "        # table\n",
    "        html.Div(\n",
    "            className='six columns',\n",
    "            children=dash_table.DataTable(\n",
    "                data=df.to_dict('records'),\n",
    "                page_size=10,\n",
    "            ),\n",
    "        ),\n",
    "        # graph\n",
    "        html.Div(\n",
    "            className='six columns',\n",
    "            children=dcc.Graph(\n",
    "                figure={},\n",
    "                id='graph',\n",
    "            ),\n",
    "        ),\n",
    "    ],\n",
    ")"
   ],
   "metadata": {
    "collapsed": false,
    "ExecuteTime": {
     "start_time": "2023-04-07T23:17:44.126372Z",
     "end_time": "2023-04-07T23:17:44.131260Z"
    }
   }
  },
  {
   "cell_type": "code",
   "execution_count": 46,
   "outputs": [],
   "source": [
    "app.layout = html.Div([\n",
    "    title,\n",
    "    radio,\n",
    "    div,\n",
    "])"
   ],
   "metadata": {
    "collapsed": false,
    "ExecuteTime": {
     "start_time": "2023-04-07T23:17:44.696636Z",
     "end_time": "2023-04-07T23:17:44.702662Z"
    }
   }
  },
  {
   "cell_type": "code",
   "execution_count": 23,
   "outputs": [],
   "source": [
    "@app.callback(\n",
    "    Output('graph', component_property='figure'),\n",
    "    Input('radio', component_property='value')\n",
    ")\n",
    "def update_graph(value):\n",
    "    return px.histogram(\n",
    "        df,\n",
    "        x=\"continent\",\n",
    "        y=value,\n",
    "        histfunc=\"avg\",\n",
    "    )"
   ],
   "metadata": {
    "collapsed": false,
    "ExecuteTime": {
     "start_time": "2023-04-07T23:35:49.034165Z",
     "end_time": "2023-04-07T23:35:49.040193Z"
    }
   }
  },
  {
   "cell_type": "code",
   "execution_count": 24,
   "outputs": [],
   "source": [
    "app.run_server(mode='inline')"
   ],
   "metadata": {
    "collapsed": false,
    "ExecuteTime": {
     "start_time": "2023-04-07T23:35:53.693033Z",
     "end_time": "2023-04-07T23:35:53.702135Z"
    }
   }
  },
  {
   "cell_type": "markdown",
   "source": [
    "### Dash Design Kit (DDK)"
   ],
   "metadata": {
    "collapsed": false,
    "ExecuteTime": {
     "start_time": "2023-04-07T23:35:56.275535Z",
     "end_time": "2023-04-07T23:35:56.278173Z"
    }
   },
   "outputs": [],
   "execution_count": 25
  },
  {
   "cell_type": "code",
   "execution_count": 26,
   "outputs": [],
   "source": [
    "!pip install dash-design-kit"
   ],
   "metadata": {
    "collapsed": false,
    "ExecuteTime": {
     "start_time": "2023-04-07T23:35:57.802551Z",
     "end_time": "2023-04-07T23:35:57.805666Z"
    }
   }
  },
  {
   "cell_type": "code",
   "execution_count": 27,
   "outputs": [],
   "source": [
    "import dash_design_kit as ddk"
   ],
   "metadata": {
    "collapsed": false,
    "ExecuteTime": {
     "start_time": "2023-04-07T23:35:59.315451Z",
     "end_time": "2023-04-07T23:35:59.318425Z"
    }
   }
  },
  {
   "cell_type": "markdown",
   "source": [
    "### Dash Bootstrap Components"
   ],
   "metadata": {
    "collapsed": false,
    "ExecuteTime": {
     "start_time": "2023-04-07T23:36:04.629364Z",
     "end_time": "2023-04-07T23:36:05.147448Z"
    }
   },
   "outputs": [
    {
     "name": "stdout",
     "output_type": "stream",
     "text": [
      "Dash is running on http://127.0.0.1:8050/\n",
      "\n",
      "Dash app running on http://127.0.0.1:8050/\n"
     ]
    }
   ],
   "execution_count": 28
  },
  {
   "cell_type": "code",
   "execution_count": 59,
   "outputs": [],
   "source": [
    "import dash_bootstrap_components as dbc"
   ],
   "metadata": {
    "collapsed": false,
    "ExecuteTime": {
     "start_time": "2023-04-07T23:20:24.366251Z",
     "end_time": "2023-04-07T23:20:24.376105Z"
    }
   }
  },
  {
   "cell_type": "code",
   "execution_count": 60,
   "outputs": [],
   "source": [
    "external_stylesheets = [dbc.themes.CERULEAN]"
   ],
   "metadata": {
    "collapsed": false,
    "ExecuteTime": {
     "start_time": "2023-04-07T23:20:25.797464Z",
     "end_time": "2023-04-07T23:20:25.801346Z"
    }
   }
  },
  {
   "cell_type": "code",
   "execution_count": 70,
   "outputs": [],
   "source": [
    "app = JupyterDash(__name__, external_stylesheets=external_stylesheets)"
   ],
   "metadata": {
    "collapsed": false,
    "ExecuteTime": {
     "start_time": "2023-04-07T23:22:15.502430Z",
     "end_time": "2023-04-07T23:22:15.510409Z"
    }
   }
  },
  {
   "cell_type": "code",
   "execution_count": 71,
   "outputs": [],
   "source": [
    "title = dbc.Row(\n",
    "    dbc.Col(\n",
    "        html.H1(\"My First App with Data, Graph, and Controls\"),\n",
    "        width=12,\n",
    "    ),\n",
    "    justify='center',\n",
    "    align='center',\n",
    "    style={\n",
    "        'color': '#7FDBFF',\n",
    "    },\n",
    ")"
   ],
   "metadata": {
    "collapsed": false,
    "ExecuteTime": {
     "start_time": "2023-04-07T23:22:16.472307Z",
     "end_time": "2023-04-07T23:22:16.477425Z"
    }
   }
  },
  {
   "cell_type": "code",
   "execution_count": 72,
   "outputs": [],
   "source": [
    "rule = html.Hr()"
   ],
   "metadata": {
    "collapsed": false,
    "ExecuteTime": {
     "start_time": "2023-04-07T23:22:17.223978Z",
     "end_time": "2023-04-07T23:22:17.226329Z"
    }
   }
  },
  {
   "cell_type": "code",
   "execution_count": 29,
   "outputs": [],
   "source": [
    "radio = dbc.Row(\n",
    "    dbc.Col(\n",
    "        dcc.RadioItems(\n",
    "            options=[\n",
    "                'pop',\n",
    "                'lifeExp',\n",
    "                'gdpPercap'\n",
    "            ],\n",
    "            value=\"lifeExp\",\n",
    "            inline=True,\n",
    "            id='radio',\n",
    "        ),\n",
    "        width=12,\n",
    "    ),\n",
    "    justify='center',\n",
    "    align='center',\n",
    ")"
   ],
   "metadata": {
    "collapsed": false,
    "ExecuteTime": {
     "start_time": "2023-04-07T23:36:34.277465Z",
     "end_time": "2023-04-07T23:36:34.313168Z"
    }
   }
  },
  {
   "cell_type": "code",
   "execution_count": 30,
   "outputs": [],
   "source": [
    "div = dbc.Row(\n",
    "    [\n",
    "        # table\n",
    "        dbc.Col(\n",
    "            dash_table.DataTable(\n",
    "                data=df.to_dict('records'),\n",
    "                page_size=10,\n",
    "            ),\n",
    "            width=6,\n",
    "        ),\n",
    "        # graph\n",
    "        dbc.Col(\n",
    "            dcc.Graph(\n",
    "                figure={},\n",
    "                id='graph',\n",
    "            ),\n",
    "            width=6,\n",
    "        ),\n",
    "    ],\n",
    "    justify='center',\n",
    "    align='center',\n",
    ")"
   ],
   "metadata": {
    "collapsed": false,
    "ExecuteTime": {
     "start_time": "2023-04-07T23:36:34.787529Z",
     "end_time": "2023-04-07T23:36:34.792386Z"
    }
   }
  },
  {
   "cell_type": "code",
   "execution_count": 31,
   "outputs": [],
   "source": [
    "app.layout = html.Div([\n",
    "    title,\n",
    "    rule,\n",
    "    radio,\n",
    "    div,\n",
    "])"
   ],
   "metadata": {
    "collapsed": false,
    "ExecuteTime": {
     "start_time": "2023-04-07T23:36:35.271851Z",
     "end_time": "2023-04-07T23:36:35.280633Z"
    }
   }
  },
  {
   "cell_type": "code",
   "execution_count": 32,
   "outputs": [],
   "source": [
    "@app.callback(\n",
    "    Output('graph', component_property='figure'),\n",
    "    Input('radio', component_property='value')\n",
    ")\n",
    "def update_graph(value):\n",
    "    return px.histogram(\n",
    "        df,\n",
    "        x=\"continent\",\n",
    "        y=value,\n",
    "        histfunc=\"avg\",\n",
    "    )"
   ],
   "metadata": {
    "collapsed": false,
    "ExecuteTime": {
     "start_time": "2023-04-07T23:36:35.737605Z",
     "end_time": "2023-04-07T23:36:35.740752Z"
    }
   }
  },
  {
   "cell_type": "code",
   "execution_count": 33,
   "outputs": [],
   "source": [
    "app.run_server(mode='inline')"
   ],
   "metadata": {
    "collapsed": false,
    "ExecuteTime": {
     "start_time": "2023-04-07T23:36:38.236773Z",
     "end_time": "2023-04-07T23:36:38.242308Z"
    }
   }
  },
  {
   "cell_type": "markdown",
   "source": [
    "### Dash Mantine Components"
   ],
   "metadata": {
    "collapsed": false,
    "ExecuteTime": {
     "start_time": "2023-04-07T23:36:40.794796Z",
     "end_time": "2023-04-07T23:36:40.798904Z"
    }
   },
   "outputs": [],
   "execution_count": 34
  },
  {
   "cell_type": "code",
   "execution_count": 35,
   "outputs": [],
   "source": [
    "import dash_mantine_components as dmc"
   ],
   "metadata": {
    "collapsed": false,
    "ExecuteTime": {
     "start_time": "2023-04-07T23:36:41.358432Z",
     "end_time": "2023-04-07T23:36:41.360595Z"
    }
   }
  },
  {
   "cell_type": "code",
   "execution_count": 36,
   "outputs": [],
   "source": [
    "external_stylesheets = [dmc.theme.DEFAULT_COLORS]"
   ],
   "metadata": {
    "collapsed": false,
    "ExecuteTime": {
     "start_time": "2023-04-07T23:36:42.039271Z",
     "end_time": "2023-04-07T23:36:42.042474Z"
    }
   }
  },
  {
   "cell_type": "code",
   "execution_count": 37,
   "outputs": [],
   "source": [
    "app = JupyterDash(__name__, external_stylesheets=external_stylesheets)"
   ],
   "metadata": {
    "collapsed": false,
    "ExecuteTime": {
     "start_time": "2023-04-07T23:36:42.853076Z",
     "end_time": "2023-04-07T23:36:42.855857Z"
    }
   }
  },
  {
   "cell_type": "code",
   "execution_count": 38,
   "outputs": [
    {
     "name": "stdout",
     "output_type": "stream",
     "text": [
      "Dash is running on http://127.0.0.1:8050/\n",
      "\n",
      "Dash app running on http://127.0.0.1:8050/\n"
     ]
    }
   ],
   "source": [
    "title = dmc.Title(\"My First App with Data, Graph, and Controls\", color='teal', size='xl')"
   ],
   "metadata": {
    "collapsed": false,
    "ExecuteTime": {
     "start_time": "2023-04-07T23:36:47.618970Z",
     "end_time": "2023-04-07T23:36:47.932691Z"
    }
   }
  },
  {
   "cell_type": "code",
   "execution_count": 82,
   "outputs": [],
   "source": [
    "rule = html.Hr()"
   ],
   "metadata": {
    "collapsed": false,
    "ExecuteTime": {
     "start_time": "2023-04-07T23:23:54.295306Z",
     "end_time": "2023-04-07T23:23:54.317324Z"
    }
   }
  },
  {
   "cell_type": "code",
   "execution_count": 84,
   "outputs": [],
   "source": [
    "radio = dmc.RadioGroup(\n",
    "    [dmc.Radio(i, value=i) for i in [\n",
    "        'pop',\n",
    "        'lifeExp',\n",
    "        'gdpPercap'\n",
    "    ]],\n",
    "    value=\"lifeExp\",\n",
    "    size='sm',\n",
    "    id='radio',\n",
    ")"
   ],
   "metadata": {
    "collapsed": false,
    "ExecuteTime": {
     "start_time": "2023-04-07T23:25:44.182113Z",
     "end_time": "2023-04-07T23:25:44.184501Z"
    }
   }
  },
  {
   "cell_type": "code",
   "execution_count": 8,
   "outputs": [],
   "source": [
    "content = dmc.Grid([\n",
    "    dmc.Col([\n",
    "        dash_table.DataTable(\n",
    "            data=df.to_dict('records'),\n",
    "            page_size=12,\n",
    "            style_table={'overflowX': 'auto'}\n",
    "        ),\n",
    "    ], span=6),\n",
    "    dmc.Col([\n",
    "        dcc.Graph(\n",
    "            figure={},\n",
    "            id='graph',\n",
    "        ),\n",
    "    ], span=6),\n",
    "])"
   ],
   "metadata": {
    "collapsed": false,
    "ExecuteTime": {
     "start_time": "2023-04-07T23:39:16.952363Z",
     "end_time": "2023-04-07T23:39:16.956694Z"
    }
   }
  },
  {
   "cell_type": "code",
   "execution_count": 9,
   "outputs": [],
   "source": [
    "app.layout = dmc.Container([\n",
    "    title,\n",
    "    rule,\n",
    "    radio,\n",
    "    content,\n",
    "],fluid=True)"
   ],
   "metadata": {
    "collapsed": false,
    "ExecuteTime": {
     "start_time": "2023-04-07T23:39:17.386598Z",
     "end_time": "2023-04-07T23:39:17.390068Z"
    }
   }
  },
  {
   "cell_type": "code",
   "execution_count": 10,
   "outputs": [],
   "source": [
    "@app.callback(\n",
    "    Output('graph', component_property='figure'),\n",
    "    Input('radio', component_property='value')\n",
    ")\n",
    "def update_graph(value):\n",
    "    return px.histogram(\n",
    "        df,\n",
    "        x=\"continent\",\n",
    "        y=value,\n",
    "        histfunc=\"avg\",\n",
    "    )"
   ],
   "metadata": {
    "collapsed": false,
    "ExecuteTime": {
     "start_time": "2023-04-07T23:39:17.946538Z",
     "end_time": "2023-04-07T23:39:17.955272Z"
    }
   }
  },
  {
   "cell_type": "code",
   "execution_count": 11,
   "outputs": [],
   "source": [
    "app.run_server(mode='inline')"
   ],
   "metadata": {
    "collapsed": false,
    "ExecuteTime": {
     "start_time": "2023-04-07T23:39:18.666653Z",
     "end_time": "2023-04-07T23:39:18.669484Z"
    }
   }
  }
 ],
 "metadata": {
  "kernelspec": {
   "display_name": "Python 3",
   "language": "python",
   "name": "python3"
  },
  "language_info": {
   "codemirror_mode": {
    "name": "ipython",
    "version": 2
   },
   "file_extension": ".py",
   "mimetype": "text/x-python",
   "name": "python",
   "nbconvert_exporter": "python",
   "pygments_lexer": "ipython2",
   "version": "2.7.6"
  }
 },
 "nbformat": 4,
 "nbformat_minor": 0
}
