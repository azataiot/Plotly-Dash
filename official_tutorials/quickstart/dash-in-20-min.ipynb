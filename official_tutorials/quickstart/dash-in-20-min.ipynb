{
 "cells": [
  {
   "cell_type": "markdown",
   "metadata": {
    "collapsed": false
   },
   "source": [
    "# Dash in 20 minutes"
   ]
  },
  {
   "cell_type": "code",
   "execution_count": 4,
   "metadata": {
    "ExecuteTime": {
     "end_time": "2023-04-07T23:38:57.501051Z",
     "start_time": "2023-04-07T23:38:57.468336Z"
    },
    "collapsed": false
   },
   "outputs": [],
   "source": [
    "from jupyter_dash import JupyterDash\n",
    "from dash import Dash, html"
   ]
  },
  {
   "cell_type": "code",
   "execution_count": 3,
   "metadata": {
    "ExecuteTime": {
     "end_time": "2023-04-07T23:33:04.437916Z",
     "start_time": "2023-04-07T23:33:04.426960Z"
    },
    "collapsed": true
   },
   "outputs": [],
   "source": [
    "app = JupyterDash(__name__)"
   ]
  },
  {
   "cell_type": "markdown",
   "metadata": {
    "collapsed": false
   },
   "source": [
    "## Hello World"
   ]
  },
  {
   "cell_type": "code",
   "execution_count": 4,
   "metadata": {
    "ExecuteTime": {
     "end_time": "2023-04-07T23:33:06.820294Z",
     "start_time": "2023-04-07T23:33:06.816085Z"
    },
    "collapsed": false
   },
   "outputs": [],
   "source": [
    "app.layout = html.Div([\n",
    "    html.H1(\"Hello Dash\"),\n",
    "    html.Div(\"Dash: A web application framework for Python.\")\n",
    "])"
   ]
  },
  {
   "cell_type": "code",
   "execution_count": 5,
   "metadata": {
    "ExecuteTime": {
     "end_time": "2023-04-07T23:33:07.565807Z",
     "start_time": "2023-04-07T23:33:07.557162Z"
    },
    "collapsed": false
   },
   "outputs": [
    {
     "name": "stdout",
     "output_type": "stream",
     "text": [
      "Dash is running on http://127.0.0.1:8050/\n",
      "\n",
      "Dash app running on http://127.0.0.1:8050/\n"
     ]
    }
   ],
   "source": [
    "app.run_server(mode='inline')"
   ]
  },
  {
   "cell_type": "markdown",
   "metadata": {
    "collapsed": false
   },
   "source": [
    "## Connecting to Data"
   ]
  },
  {
   "cell_type": "code",
   "execution_count": 5,
   "metadata": {
    "ExecuteTime": {
     "end_time": "2023-04-07T22:54:17.258453Z",
     "start_time": "2023-04-07T22:54:16.867863Z"
    },
    "collapsed": false
   },
   "outputs": [],
   "source": [
    "from dash import dash_table\n",
    "import pandas as pd"
   ]
  },
  {
   "cell_type": "code",
   "execution_count": 5,
   "metadata": {
    "ExecuteTime": {
     "end_time": "2023-04-07T23:39:01.369695Z",
     "start_time": "2023-04-07T23:39:01.121492Z"
    },
    "collapsed": false
   },
   "outputs": [],
   "source": [
    "# Incorporate data\n",
    "df = pd.read_csv('https://raw.githubusercontent.com/plotly/datasets/master/gapminder2007.csv')"
   ]
  },
  {
   "cell_type": "code",
   "execution_count": 7,
   "metadata": {
    "ExecuteTime": {
     "end_time": "2023-04-07T23:33:50.966998Z",
     "start_time": "2023-04-07T23:33:50.553837Z"
    },
    "collapsed": false
   },
   "outputs": [],
   "source": [
    "app = JupyterDash(__name__)"
   ]
  },
  {
   "cell_type": "code",
   "execution_count": 8,
   "metadata": {
    "ExecuteTime": {
     "end_time": "2023-04-07T23:33:51.041801Z",
     "start_time": "2023-04-07T23:33:51.035006Z"
    },
    "collapsed": false
   },
   "outputs": [],
   "source": [
    "title = html.H1(children='My First App with Data')\n",
    "table = dash_table.DataTable(\n",
    "    data=df.to_dict('records'),\n",
    "    page_size=10,\n",
    ")"
   ]
  },
  {
   "cell_type": "code",
   "execution_count": 9,
   "metadata": {
    "ExecuteTime": {
     "end_time": "2023-04-07T23:33:51.646431Z",
     "start_time": "2023-04-07T23:33:51.641734Z"
    },
    "collapsed": false
   },
   "outputs": [],
   "source": [
    "app.layout = html.Div([\n",
    "    title,\n",
    "    table\n",
    "])"
   ]
  },
  {
   "cell_type": "code",
   "execution_count": 10,
   "metadata": {
    "ExecuteTime": {
     "end_time": "2023-04-07T23:33:54.926450Z",
     "start_time": "2023-04-07T23:33:54.920960Z"
    },
    "collapsed": false
   },
   "outputs": [],
   "source": [
    "app.run_server(mode='inline')"
   ]
  },
  {
   "cell_type": "markdown",
   "metadata": {
    "ExecuteTime": {
     "end_time": "2023-04-07T23:34:01.701175Z",
     "start_time": "2023-04-07T23:34:01.271648Z"
    },
    "collapsed": false
   },
   "source": [
    "## Visualizing Data"
   ]
  },
  {
   "cell_type": "code",
   "execution_count": 11,
   "metadata": {
    "ExecuteTime": {
     "end_time": "2023-04-07T22:56:51.946152Z",
     "start_time": "2023-04-07T22:56:51.897706Z"
    },
    "collapsed": false
   },
   "outputs": [],
   "source": [
    "from dash import dcc\n",
    "import plotly.express as px"
   ]
  },
  {
   "cell_type": "code",
   "execution_count": 12,
   "metadata": {
    "ExecuteTime": {
     "end_time": "2023-04-07T22:56:55.950412Z",
     "start_time": "2023-04-07T22:56:55.942457Z"
    },
    "collapsed": false
   },
   "outputs": [],
   "source": [
    "app = JupyterDash(__name__)"
   ]
  },
  {
   "cell_type": "code",
   "execution_count": 6,
   "metadata": {
    "ExecuteTime": {
     "end_time": "2023-04-07T23:39:04.377949Z",
     "start_time": "2023-04-07T23:39:04.325583Z"
    },
    "collapsed": false
   },
   "outputs": [],
   "source": [
    "graph = dcc.Graph(\n",
    "    figure=px.histogram(\n",
    "        df,\n",
    "        x=\"continent\",\n",
    "        y=\"lifeExp\",\n",
    "        histfunc=\"avg\",\n",
    "    )\n",
    ")"
   ]
  },
  {
   "cell_type": "code",
   "execution_count": 13,
   "metadata": {
    "ExecuteTime": {
     "end_time": "2023-04-07T23:34:25.254022Z",
     "start_time": "2023-04-07T23:34:25.246493Z"
    },
    "collapsed": false
   },
   "outputs": [],
   "source": [
    "app.layout = html.Div([\n",
    "    title,\n",
    "    table,\n",
    "    graph\n",
    "])"
   ]
  },
  {
   "cell_type": "code",
   "execution_count": 14,
   "metadata": {
    "ExecuteTime": {
     "end_time": "2023-04-07T23:34:25.929020Z",
     "start_time": "2023-04-07T23:34:25.880106Z"
    },
    "collapsed": false
   },
   "outputs": [],
   "source": [
    "app.run_server(mode='inline')"
   ]
  },
  {
   "cell_type": "markdown",
   "metadata": {
    "ExecuteTime": {
     "end_time": "2023-04-07T23:34:27.090792Z",
     "start_time": "2023-04-07T23:34:27.087687Z"
    },
    "collapsed": false
   },
   "source": [
    "## Controls and Callbacks"
   ]
  },
  {
   "cell_type": "code",
   "execution_count": 16,
   "metadata": {
    "ExecuteTime": {
     "end_time": "2023-04-07T23:34:31.010647Z",
     "start_time": "2023-04-07T23:34:30.760078Z"
    },
    "collapsed": false
   },
   "outputs": [
    {
     "name": "stdout",
     "output_type": "stream",
     "text": [
      "Dash is running on http://127.0.0.1:8050/\n",
      "\n",
      "Dash app running on http://127.0.0.1:8050/\n"
     ]
    }
   ],
   "source": [
    "from dash import callback, Input, Output"
   ]
  },
  {
   "cell_type": "code",
   "execution_count": 18,
   "metadata": {
    "ExecuteTime": {
     "end_time": "2023-04-07T22:59:08.747057Z",
     "start_time": "2023-04-07T22:59:08.743907Z"
    },
    "collapsed": false
   },
   "outputs": [],
   "source": [
    "app = JupyterDash(__name__)"
   ]
  },
  {
   "cell_type": "code",
   "execution_count": 19,
   "metadata": {
    "ExecuteTime": {
     "end_time": "2023-04-07T23:02:55.821244Z",
     "start_time": "2023-04-07T23:02:55.816250Z"
    },
    "collapsed": false
   },
   "outputs": [],
   "source": [
    "title = html.H1(children='My First App with Data, Graph, and Controls')\n",
    "rule = html.Hr()\n",
    "radio = dcc.RadioItems(\n",
    "    options=[\n",
    "        'pop',\n",
    "        'lifeExp',\n",
    "        'gdpPercap'\n",
    "    ],\n",
    "    value=\"lifeExp\",\n",
    ")\n",
    "table = dash_table.DataTable(\n",
    "    data=df.to_dict('records'),\n",
    "    page_size=6,\n",
    ")\n",
    "graph = dcc.Graph(figure={})"
   ]
  },
  {
   "cell_type": "code",
   "execution_count": 7,
   "metadata": {
    "ExecuteTime": {
     "end_time": "2023-04-07T23:39:07.423215Z",
     "start_time": "2023-04-07T23:39:07.418586Z"
    },
    "collapsed": false
   },
   "outputs": [],
   "source": [
    "app.layout = html.Div([\n",
    "    title,\n",
    "    rule,\n",
    "    radio,\n",
    "    table,\n",
    "    graph\n",
    "])"
   ]
  },
  {
   "cell_type": "code",
   "execution_count": 18,
   "metadata": {
    "ExecuteTime": {
     "end_time": "2023-04-07T23:34:55.221876Z",
     "start_time": "2023-04-07T23:34:55.212602Z"
    },
    "collapsed": false
   },
   "outputs": [],
   "source": [
    "@app.callback(\n",
    "    Output(graph, component_property='figure'),\n",
    "    Input(radio, component_property='value')\n",
    ")\n",
    "def update_graph(value):\n",
    "    return px.histogram(\n",
    "        df,\n",
    "        x=\"continent\",\n",
    "        y=value,\n",
    "        histfunc=\"avg\",\n",
    "    )"
   ]
  },
  {
   "cell_type": "code",
   "execution_count": 19,
   "metadata": {
    "ExecuteTime": {
     "end_time": "2023-04-07T23:34:55.766751Z",
     "start_time": "2023-04-07T23:34:55.765029Z"
    },
    "collapsed": false
   },
   "outputs": [],
   "source": [
    "app.run_server(mode='inline')"
   ]
  },
  {
   "cell_type": "markdown",
   "metadata": {
    "ExecuteTime": {
     "end_time": "2023-04-07T23:34:56.846043Z",
     "start_time": "2023-04-07T23:34:56.842790Z"
    },
    "collapsed": false
   },
   "source": [
    "## Styling and Customization\n",
    "\n",
    "to enhance the layout style of a Dash app:\n",
    "\n",
    "- HTML and CSS\n",
    "- Dash Design Kit (DDK)\n",
    "- Dash Bootstrap Components\n",
    "- Dash Mantine Components"
   ]
  },
  {
   "cell_type": "markdown",
   "metadata": {
    "ExecuteTime": {
     "end_time": "2023-04-07T23:34:57.330943Z",
     "start_time": "2023-04-07T23:34:57.328150Z"
    },
    "collapsed": false
   },
   "source": [
    "### HTML and CSS"
   ]
  },
  {
   "cell_type": "code",
   "execution_count": 22,
   "metadata": {
    "ExecuteTime": {
     "end_time": "2023-04-07T23:35:10.145785Z",
     "start_time": "2023-04-07T23:35:09.631440Z"
    },
    "collapsed": false
   },
   "outputs": [
    {
     "name": "stdout",
     "output_type": "stream",
     "text": [
      "Dash is running on http://127.0.0.1:8050/\n",
      "\n",
      "Dash app running on http://127.0.0.1:8050/\n"
     ]
    }
   ],
   "source": [
    "external_stylesheets = [\n",
    "    'https://codepen.io/chriddyp/pen/bWLwgP.css',\n",
    "]"
   ]
  },
  {
   "cell_type": "code",
   "execution_count": 44,
   "metadata": {
    "ExecuteTime": {
     "end_time": "2023-04-07T23:17:43.558025Z",
     "start_time": "2023-04-07T23:17:43.554638Z"
    },
    "collapsed": false
   },
   "outputs": [],
   "source": [
    "app = JupyterDash(__name__, external_stylesheets=external_stylesheets)"
   ]
  },
  {
   "cell_type": "code",
   "execution_count": 45,
   "metadata": {
    "ExecuteTime": {
     "end_time": "2023-04-07T23:17:44.131260Z",
     "start_time": "2023-04-07T23:17:44.126372Z"
    },
    "collapsed": false
   },
   "outputs": [],
   "source": [
    "title = html.Div(\n",
    "    className='row',\n",
    "    children='My First App with Data, Graph, and Controls',\n",
    "    style={\n",
    "        'textAlign': 'center',\n",
    "        'color': '#7FDBFF',\n",
    "        'font-size': 30,\n",
    "    },\n",
    ")\n",
    "\n",
    "radio = html.Div(\n",
    "    className='row',\n",
    "    children=[\n",
    "        dcc.RadioItems(\n",
    "            options=[\n",
    "                'pop',\n",
    "                'lifeExp',\n",
    "                'gdpPercap'\n",
    "            ],\n",
    "            value=\"lifeExp\",\n",
    "            inline=True,\n",
    "            id='radio',\n",
    "        ),\n",
    "    ],\n",
    ")\n",
    "\n",
    "div = html.Div(\n",
    "    className='row',\n",
    "    children=[\n",
    "        # table\n",
    "        html.Div(\n",
    "            className='six columns',\n",
    "            children=dash_table.DataTable(\n",
    "                data=df.to_dict('records'),\n",
    "                page_size=10,\n",
    "            ),\n",
    "        ),\n",
    "        # graph\n",
    "        html.Div(\n",
    "            className='six columns',\n",
    "            children=dcc.Graph(\n",
    "                figure={},\n",
    "                id='graph',\n",
    "            ),\n",
    "        ),\n",
    "    ],\n",
    ")"
   ]
  },
  {
   "cell_type": "code",
   "execution_count": 46,
   "metadata": {
    "ExecuteTime": {
     "end_time": "2023-04-07T23:17:44.702662Z",
     "start_time": "2023-04-07T23:17:44.696636Z"
    },
    "collapsed": false
   },
   "outputs": [],
   "source": [
    "app.layout = html.Div([\n",
    "    title,\n",
    "    radio,\n",
    "    div,\n",
    "])"
   ]
  },
  {
   "cell_type": "code",
   "execution_count": 23,
   "metadata": {
    "ExecuteTime": {
     "end_time": "2023-04-07T23:35:49.040193Z",
     "start_time": "2023-04-07T23:35:49.034165Z"
    },
    "collapsed": false
   },
   "outputs": [],
   "source": [
    "@app.callback(\n",
    "    Output('graph', component_property='figure'),\n",
    "    Input('radio', component_property='value')\n",
    ")\n",
    "def update_graph(value):\n",
    "    return px.histogram(\n",
    "        df,\n",
    "        x=\"continent\",\n",
    "        y=value,\n",
    "        histfunc=\"avg\",\n",
    "    )"
   ]
  },
  {
   "cell_type": "code",
   "execution_count": 24,
   "metadata": {
    "ExecuteTime": {
     "end_time": "2023-04-07T23:35:53.702135Z",
     "start_time": "2023-04-07T23:35:53.693033Z"
    },
    "collapsed": false
   },
   "outputs": [],
   "source": [
    "app.run_server(mode='inline')"
   ]
  },
  {
   "cell_type": "markdown",
   "metadata": {
    "ExecuteTime": {
     "end_time": "2023-04-07T23:35:56.278173Z",
     "start_time": "2023-04-07T23:35:56.275535Z"
    },
    "collapsed": false
   },
   "source": [
    "### Dash Design Kit (DDK)"
   ]
  },
  {
   "cell_type": "code",
   "execution_count": 26,
   "metadata": {
    "ExecuteTime": {
     "end_time": "2023-04-07T23:35:57.805666Z",
     "start_time": "2023-04-07T23:35:57.802551Z"
    },
    "collapsed": false
   },
   "outputs": [],
   "source": [
    "!pip install dash-design-kit"
   ]
  },
  {
   "cell_type": "code",
   "execution_count": 27,
   "metadata": {
    "ExecuteTime": {
     "end_time": "2023-04-07T23:35:59.318425Z",
     "start_time": "2023-04-07T23:35:59.315451Z"
    },
    "collapsed": false
   },
   "outputs": [],
   "source": [
    "import dash_design_kit as ddk"
   ]
  },
  {
   "cell_type": "markdown",
   "metadata": {
    "ExecuteTime": {
     "end_time": "2023-04-07T23:36:05.147448Z",
     "start_time": "2023-04-07T23:36:04.629364Z"
    },
    "collapsed": false
   },
   "source": [
    "### Dash Bootstrap Components"
   ]
  },
  {
   "cell_type": "code",
   "execution_count": 59,
   "metadata": {
    "ExecuteTime": {
     "end_time": "2023-04-07T23:20:24.376105Z",
     "start_time": "2023-04-07T23:20:24.366251Z"
    },
    "collapsed": false
   },
   "outputs": [],
   "source": [
    "import dash_bootstrap_components as dbc"
   ]
  },
  {
   "cell_type": "code",
   "execution_count": 60,
   "metadata": {
    "ExecuteTime": {
     "end_time": "2023-04-07T23:20:25.801346Z",
     "start_time": "2023-04-07T23:20:25.797464Z"
    },
    "collapsed": false
   },
   "outputs": [],
   "source": [
    "external_stylesheets = [dbc.themes.CERULEAN]"
   ]
  },
  {
   "cell_type": "code",
   "execution_count": 70,
   "metadata": {
    "ExecuteTime": {
     "end_time": "2023-04-07T23:22:15.510409Z",
     "start_time": "2023-04-07T23:22:15.502430Z"
    },
    "collapsed": false
   },
   "outputs": [],
   "source": [
    "app = JupyterDash(__name__, external_stylesheets=external_stylesheets)"
   ]
  },
  {
   "cell_type": "code",
   "execution_count": 71,
   "metadata": {
    "ExecuteTime": {
     "end_time": "2023-04-07T23:22:16.477425Z",
     "start_time": "2023-04-07T23:22:16.472307Z"
    },
    "collapsed": false
   },
   "outputs": [],
   "source": [
    "title = dbc.Row(\n",
    "    dbc.Col(\n",
    "        html.H1(\"My First App with Data, Graph, and Controls\"),\n",
    "        width=12,\n",
    "    ),\n",
    "    justify='center',\n",
    "    align='center',\n",
    "    style={\n",
    "        'color': '#7FDBFF',\n",
    "    },\n",
    ")"
   ]
  },
  {
   "cell_type": "code",
   "execution_count": 72,
   "metadata": {
    "ExecuteTime": {
     "end_time": "2023-04-07T23:22:17.226329Z",
     "start_time": "2023-04-07T23:22:17.223978Z"
    },
    "collapsed": false
   },
   "outputs": [],
   "source": [
    "rule = html.Hr()"
   ]
  },
  {
   "cell_type": "code",
   "execution_count": 29,
   "metadata": {
    "ExecuteTime": {
     "end_time": "2023-04-07T23:36:34.313168Z",
     "start_time": "2023-04-07T23:36:34.277465Z"
    },
    "collapsed": false
   },
   "outputs": [],
   "source": [
    "radio = dbc.Row(\n",
    "    dbc.Col(\n",
    "        dcc.RadioItems(\n",
    "            options=[\n",
    "                'pop',\n",
    "                'lifeExp',\n",
    "                'gdpPercap'\n",
    "            ],\n",
    "            value=\"lifeExp\",\n",
    "            inline=True,\n",
    "            id='radio',\n",
    "        ),\n",
    "        width=12,\n",
    "    ),\n",
    "    justify='center',\n",
    "    align='center',\n",
    ")"
   ]
  },
  {
   "cell_type": "code",
   "execution_count": 30,
   "metadata": {
    "ExecuteTime": {
     "end_time": "2023-04-07T23:36:34.792386Z",
     "start_time": "2023-04-07T23:36:34.787529Z"
    },
    "collapsed": false
   },
   "outputs": [],
   "source": [
    "div = dbc.Row(\n",
    "    [\n",
    "        # table\n",
    "        dbc.Col(\n",
    "            dash_table.DataTable(\n",
    "                data=df.to_dict('records'),\n",
    "                page_size=10,\n",
    "            ),\n",
    "            width=6,\n",
    "        ),\n",
    "        # graph\n",
    "        dbc.Col(\n",
    "            dcc.Graph(\n",
    "                figure={},\n",
    "                id='graph',\n",
    "            ),\n",
    "            width=6,\n",
    "        ),\n",
    "    ],\n",
    "    justify='center',\n",
    "    align='center',\n",
    ")"
   ]
  },
  {
   "cell_type": "code",
   "execution_count": 31,
   "metadata": {
    "ExecuteTime": {
     "end_time": "2023-04-07T23:36:35.280633Z",
     "start_time": "2023-04-07T23:36:35.271851Z"
    },
    "collapsed": false
   },
   "outputs": [],
   "source": [
    "app.layout = html.Div([\n",
    "    title,\n",
    "    rule,\n",
    "    radio,\n",
    "    div,\n",
    "])"
   ]
  },
  {
   "cell_type": "code",
   "execution_count": 32,
   "metadata": {
    "ExecuteTime": {
     "end_time": "2023-04-07T23:36:35.740752Z",
     "start_time": "2023-04-07T23:36:35.737605Z"
    },
    "collapsed": false
   },
   "outputs": [],
   "source": [
    "@app.callback(\n",
    "    Output('graph', component_property='figure'),\n",
    "    Input('radio', component_property='value')\n",
    ")\n",
    "def update_graph(value):\n",
    "    return px.histogram(\n",
    "        df,\n",
    "        x=\"continent\",\n",
    "        y=value,\n",
    "        histfunc=\"avg\",\n",
    "    )"
   ]
  },
  {
   "cell_type": "code",
   "execution_count": 33,
   "metadata": {
    "ExecuteTime": {
     "end_time": "2023-04-07T23:36:38.242308Z",
     "start_time": "2023-04-07T23:36:38.236773Z"
    },
    "collapsed": false
   },
   "outputs": [],
   "source": [
    "app.run_server(mode='inline')"
   ]
  },
  {
   "cell_type": "markdown",
   "metadata": {
    "ExecuteTime": {
     "end_time": "2023-04-07T23:36:40.798904Z",
     "start_time": "2023-04-07T23:36:40.794796Z"
    },
    "collapsed": false
   },
   "source": [
    "### Dash Mantine Components"
   ]
  },
  {
   "cell_type": "code",
   "execution_count": 35,
   "metadata": {
    "ExecuteTime": {
     "end_time": "2023-04-07T23:36:41.360595Z",
     "start_time": "2023-04-07T23:36:41.358432Z"
    },
    "collapsed": false
   },
   "outputs": [],
   "source": [
    "import dash_mantine_components as dmc"
   ]
  },
  {
   "cell_type": "code",
   "execution_count": 36,
   "metadata": {
    "ExecuteTime": {
     "end_time": "2023-04-07T23:36:42.042474Z",
     "start_time": "2023-04-07T23:36:42.039271Z"
    },
    "collapsed": false
   },
   "outputs": [],
   "source": [
    "external_stylesheets = [dmc.theme.DEFAULT_COLORS]"
   ]
  },
  {
   "cell_type": "code",
   "execution_count": 37,
   "metadata": {
    "ExecuteTime": {
     "end_time": "2023-04-07T23:36:42.855857Z",
     "start_time": "2023-04-07T23:36:42.853076Z"
    },
    "collapsed": false
   },
   "outputs": [],
   "source": [
    "app = JupyterDash(__name__, external_stylesheets=external_stylesheets)"
   ]
  },
  {
   "cell_type": "code",
   "execution_count": 38,
   "metadata": {
    "ExecuteTime": {
     "end_time": "2023-04-07T23:36:47.932691Z",
     "start_time": "2023-04-07T23:36:47.618970Z"
    },
    "collapsed": false
   },
   "outputs": [
    {
     "name": "stdout",
     "output_type": "stream",
     "text": [
      "Dash is running on http://127.0.0.1:8050/\n",
      "\n",
      "Dash app running on http://127.0.0.1:8050/\n"
     ]
    }
   ],
   "source": [
    "title = dmc.Title(\"My First App with Data, Graph, and Controls\", color='teal', size='xl')"
   ]
  },
  {
   "cell_type": "code",
   "execution_count": 82,
   "metadata": {
    "ExecuteTime": {
     "end_time": "2023-04-07T23:23:54.317324Z",
     "start_time": "2023-04-07T23:23:54.295306Z"
    },
    "collapsed": false
   },
   "outputs": [],
   "source": [
    "rule = html.Hr()"
   ]
  },
  {
   "cell_type": "code",
   "execution_count": 84,
   "metadata": {
    "ExecuteTime": {
     "end_time": "2023-04-07T23:25:44.184501Z",
     "start_time": "2023-04-07T23:25:44.182113Z"
    },
    "collapsed": false
   },
   "outputs": [],
   "source": [
    "radio = dmc.RadioGroup(\n",
    "    [dmc.Radio(i, value=i) for i in [\n",
    "        'pop',\n",
    "        'lifeExp',\n",
    "        'gdpPercap'\n",
    "    ]],\n",
    "    value=\"lifeExp\",\n",
    "    size='sm',\n",
    "    id='radio',\n",
    ")"
   ]
  },
  {
   "cell_type": "code",
   "execution_count": 8,
   "metadata": {
    "ExecuteTime": {
     "end_time": "2023-04-07T23:39:16.956694Z",
     "start_time": "2023-04-07T23:39:16.952363Z"
    },
    "collapsed": false
   },
   "outputs": [],
   "source": [
    "content = dmc.Grid([\n",
    "    dmc.Col([\n",
    "        dash_table.DataTable(\n",
    "            data=df.to_dict('records'),\n",
    "            page_size=12,\n",
    "            style_table={'overflowX': 'auto'}\n",
    "        ),\n",
    "    ], span=6),\n",
    "    dmc.Col([\n",
    "        dcc.Graph(\n",
    "            figure={},\n",
    "            id='graph',\n",
    "        ),\n",
    "    ], span=6),\n",
    "])"
   ]
  },
  {
   "cell_type": "code",
   "execution_count": 9,
   "metadata": {
    "ExecuteTime": {
     "end_time": "2023-04-07T23:39:17.390068Z",
     "start_time": "2023-04-07T23:39:17.386598Z"
    },
    "collapsed": false
   },
   "outputs": [],
   "source": [
    "app.layout = dmc.Container([\n",
    "    title,\n",
    "    rule,\n",
    "    radio,\n",
    "    content,\n",
    "],fluid=True)"
   ]
  },
  {
   "cell_type": "code",
   "execution_count": 10,
   "metadata": {
    "ExecuteTime": {
     "end_time": "2023-04-07T23:39:17.955272Z",
     "start_time": "2023-04-07T23:39:17.946538Z"
    },
    "collapsed": false
   },
   "outputs": [],
   "source": [
    "@app.callback(\n",
    "    Output('graph', component_property='figure'),\n",
    "    Input('radio', component_property='value')\n",
    ")\n",
    "def update_graph(value):\n",
    "    return px.histogram(\n",
    "        df,\n",
    "        x=\"continent\",\n",
    "        y=value,\n",
    "        histfunc=\"avg\",\n",
    "    )"
   ]
  },
  {
   "cell_type": "code",
   "execution_count": 11,
   "metadata": {
    "ExecuteTime": {
     "end_time": "2023-04-07T23:39:18.669484Z",
     "start_time": "2023-04-07T23:39:18.666653Z"
    },
    "collapsed": false
   },
   "outputs": [],
   "source": [
    "app.run_server()"
   ]
  },
  {
   "attachments": {},
   "cell_type": "markdown",
   "metadata": {},
   "source": [
    "![](\"assets/marine.png)"
   ]
  }
 ],
 "metadata": {
  "kernelspec": {
   "display_name": "Python 3",
   "language": "python",
   "name": "python3"
  },
  "language_info": {
   "codemirror_mode": {
    "name": "ipython",
    "version": 2
   },
   "file_extension": ".py",
   "mimetype": "text/x-python",
   "name": "python",
   "nbconvert_exporter": "python",
   "pygments_lexer": "ipython2",
   "version": "2.7.6"
  }
 },
 "nbformat": 4,
 "nbformat_minor": 0
}
